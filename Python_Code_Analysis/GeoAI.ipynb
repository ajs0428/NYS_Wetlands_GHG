{
 "cells": [
  {
   "cell_type": "code",
   "execution_count": 3,
   "id": "f4b07854-f8c3-4ab4-9216-5e0a6db1a599",
   "metadata": {},
   "outputs": [],
   "source": [
    "import geoai\n",
    "import os\n",
    "import leafmap\n",
    "import torch"
   ]
  },
  {
   "cell_type": "code",
   "execution_count": 5,
   "id": "4370b0d2-8ae9-440b-a7c1-d990c9f59149",
   "metadata": {},
   "outputs": [
    {
     "name": "stdout",
     "output_type": "stream",
     "text": [
      "cool\n"
     ]
    }
   ],
   "source": [
    "# Check that MPS is available\n",
    "if not torch.backends.mps.is_available():\n",
    "    if not torch.backends.mps.is_built():\n",
    "        print(\"MPS not available because the current PyTorch install was not \"\n",
    "              \"built with MPS enabled.\")\n",
    "    else:\n",
    "        print(\"MPS not available because the current MacOS version is not 12.3+ \"\n",
    "              \"and/or you do not have an MPS-enabled device on this machine.\")\n",
    "\n",
    "else:\n",
    "    print(\"cool\")"
   ]
  },
  {
   "cell_type": "code",
   "execution_count": 2,
   "id": "a6f23261-d487-4a94-98ed-8c26b578a82e",
   "metadata": {},
   "outputs": [
    {
     "name": "stdout",
     "output_type": "stream",
     "text": [
      "Retrieved 126 collections from Planetary Computer\n"
     ]
    },
    {
     "data": {
      "text/html": [
       "<div>\n",
       "<style scoped>\n",
       "    .dataframe tbody tr th:only-of-type {\n",
       "        vertical-align: middle;\n",
       "    }\n",
       "\n",
       "    .dataframe tbody tr th {\n",
       "        vertical-align: top;\n",
       "    }\n",
       "\n",
       "    .dataframe thead th {\n",
       "        text-align: right;\n",
       "    }\n",
       "</style>\n",
       "<table border=\"1\" class=\"dataframe\">\n",
       "  <thead>\n",
       "    <tr style=\"text-align: right;\">\n",
       "      <th></th>\n",
       "      <th>id</th>\n",
       "      <th>title</th>\n",
       "      <th>description</th>\n",
       "    </tr>\n",
       "  </thead>\n",
       "  <tbody>\n",
       "    <tr>\n",
       "      <th>42</th>\n",
       "      <td>3dep-lidar-classification</td>\n",
       "      <td>USGS 3DEP Lidar Classification</td>\n",
       "      <td>This collection is derived from the [USGS 3DEP...</td>\n",
       "    </tr>\n",
       "    <tr>\n",
       "      <th>28</th>\n",
       "      <td>3dep-lidar-copc</td>\n",
       "      <td>USGS 3DEP Lidar Point Cloud</td>\n",
       "      <td>This collection contains source data from the ...</td>\n",
       "    </tr>\n",
       "    <tr>\n",
       "      <th>3</th>\n",
       "      <td>3dep-lidar-dsm</td>\n",
       "      <td>USGS 3DEP Lidar Digital Surface Model</td>\n",
       "      <td>This collection is derived from the [USGS 3DEP...</td>\n",
       "    </tr>\n",
       "    <tr>\n",
       "      <th>43</th>\n",
       "      <td>3dep-lidar-dtm</td>\n",
       "      <td>USGS 3DEP Lidar Digital Terrain Model</td>\n",
       "      <td>This collection is derived from the [USGS 3DEP...</td>\n",
       "    </tr>\n",
       "    <tr>\n",
       "      <th>41</th>\n",
       "      <td>3dep-lidar-dtm-native</td>\n",
       "      <td>USGS 3DEP Lidar Digital Terrain Model (Native)</td>\n",
       "      <td>This collection is derived from the [USGS 3DEP...</td>\n",
       "    </tr>\n",
       "    <tr>\n",
       "      <th>...</th>\n",
       "      <td>...</td>\n",
       "      <td>...</td>\n",
       "      <td>...</td>\n",
       "    </tr>\n",
       "    <tr>\n",
       "      <th>16</th>\n",
       "      <td>terraclimate</td>\n",
       "      <td>TerraClimate</td>\n",
       "      <td>[TerraClimate](http://www.climatologylab.org/t...</td>\n",
       "    </tr>\n",
       "    <tr>\n",
       "      <th>55</th>\n",
       "      <td>us-census</td>\n",
       "      <td>US Census</td>\n",
       "      <td>The [2020 Census](https://www.census.gov/progr...</td>\n",
       "    </tr>\n",
       "    <tr>\n",
       "      <th>85</th>\n",
       "      <td>usda-cdl</td>\n",
       "      <td>USDA Cropland Data Layers (CDLs)</td>\n",
       "      <td>The Cropland Data Layer (CDL) is a product of ...</td>\n",
       "    </tr>\n",
       "    <tr>\n",
       "      <th>90</th>\n",
       "      <td>usgs-lcmap-conus-v13</td>\n",
       "      <td>USGS LCMAP CONUS Collection 1.3</td>\n",
       "      <td>The [Land Change Monitoring, Assessment, and P...</td>\n",
       "    </tr>\n",
       "    <tr>\n",
       "      <th>91</th>\n",
       "      <td>usgs-lcmap-hawaii-v10</td>\n",
       "      <td>USGS LCMAP Hawaii Collection 1.0</td>\n",
       "      <td>The [Land Change Monitoring, Assessment, and P...</td>\n",
       "    </tr>\n",
       "  </tbody>\n",
       "</table>\n",
       "<p>126 rows × 3 columns</p>\n",
       "</div>"
      ],
      "text/plain": [
       "                           id                                           title  \\\n",
       "42  3dep-lidar-classification                  USGS 3DEP Lidar Classification   \n",
       "28            3dep-lidar-copc                     USGS 3DEP Lidar Point Cloud   \n",
       "3              3dep-lidar-dsm           USGS 3DEP Lidar Digital Surface Model   \n",
       "43             3dep-lidar-dtm           USGS 3DEP Lidar Digital Terrain Model   \n",
       "41      3dep-lidar-dtm-native  USGS 3DEP Lidar Digital Terrain Model (Native)   \n",
       "..                        ...                                             ...   \n",
       "16               terraclimate                                    TerraClimate   \n",
       "55                  us-census                                       US Census   \n",
       "85                   usda-cdl                USDA Cropland Data Layers (CDLs)   \n",
       "90       usgs-lcmap-conus-v13                 USGS LCMAP CONUS Collection 1.3   \n",
       "91      usgs-lcmap-hawaii-v10                USGS LCMAP Hawaii Collection 1.0   \n",
       "\n",
       "                                          description  \n",
       "42  This collection is derived from the [USGS 3DEP...  \n",
       "28  This collection contains source data from the ...  \n",
       "3   This collection is derived from the [USGS 3DEP...  \n",
       "43  This collection is derived from the [USGS 3DEP...  \n",
       "41  This collection is derived from the [USGS 3DEP...  \n",
       "..                                                ...  \n",
       "16  [TerraClimate](http://www.climatologylab.org/t...  \n",
       "55  The [2020 Census](https://www.census.gov/progr...  \n",
       "85  The Cropland Data Layer (CDL) is a product of ...  \n",
       "90  The [Land Change Monitoring, Assessment, and P...  \n",
       "91  The [Land Change Monitoring, Assessment, and P...  \n",
       "\n",
       "[126 rows x 3 columns]"
      ]
     },
     "execution_count": 2,
     "metadata": {},
     "output_type": "execute_result"
    }
   ],
   "source": [
    "collections = geoai.pc_collection_list()\n",
    "collections"
   ]
  },
  {
   "cell_type": "code",
   "execution_count": 3,
   "id": "7edaeca3-950d-4c9d-98da-c53a9b75a870",
   "metadata": {},
   "outputs": [
    {
     "data": {
      "text/html": [
       "<div>\n",
       "<style scoped>\n",
       "    .dataframe tbody tr th:only-of-type {\n",
       "        vertical-align: middle;\n",
       "    }\n",
       "\n",
       "    .dataframe tbody tr th {\n",
       "        vertical-align: top;\n",
       "    }\n",
       "\n",
       "    .dataframe thead th {\n",
       "        text-align: right;\n",
       "    }\n",
       "</style>\n",
       "<table border=\"1\" class=\"dataframe\">\n",
       "  <thead>\n",
       "    <tr style=\"text-align: right;\">\n",
       "      <th></th>\n",
       "      <th>id</th>\n",
       "      <th>title</th>\n",
       "      <th>description</th>\n",
       "    </tr>\n",
       "  </thead>\n",
       "  <tbody>\n",
       "    <tr>\n",
       "      <th>98</th>\n",
       "      <td>naip</td>\n",
       "      <td>NAIP: National Agriculture Imagery Program</td>\n",
       "      <td>The [National Agriculture Imagery Program](htt...</td>\n",
       "    </tr>\n",
       "  </tbody>\n",
       "</table>\n",
       "</div>"
      ],
      "text/plain": [
       "      id                                       title  \\\n",
       "98  naip  NAIP: National Agriculture Imagery Program   \n",
       "\n",
       "                                          description  \n",
       "98  The [National Agriculture Imagery Program](htt...  "
      ]
     },
     "execution_count": 3,
     "metadata": {},
     "output_type": "execute_result"
    }
   ],
   "source": [
    "collections[collections[\"id\"] == \"naip\"]"
   ]
  },
  {
   "cell_type": "code",
   "execution_count": 4,
   "id": "4ae25710-2cd3-41ba-820c-e34eb6191e04",
   "metadata": {},
   "outputs": [
    {
     "data": {
      "text/plain": [
       "title                      USGS 3DEP Lidar Digital Terrain Model\n",
       "description    This collection is derived from the [USGS 3DEP...\n",
       "Name: 43, dtype: object"
      ]
     },
     "execution_count": 4,
     "metadata": {},
     "output_type": "execute_result"
    }
   ],
   "source": [
    "collections[['title','description']].loc[43]"
   ]
  },
  {
   "cell_type": "code",
   "execution_count": 51,
   "id": "c88d2ee2-3202-41f7-b2dd-b785e9d0ed75",
   "metadata": {},
   "outputs": [
    {
     "data": {
      "application/vnd.jupyter.widget-view+json": {
       "model_id": "2e4c797c4289426badde90210085a831",
       "version_major": 2,
       "version_minor": 0
      },
      "text/plain": [
       "Map(center=[42.5, -75.83], controls=(ZoomControl(options=['position', 'zoom_in_text', 'zoom_in_title', 'zoom_o…"
      ]
     },
     "execution_count": 51,
     "metadata": {},
     "output_type": "execute_result"
    }
   ],
   "source": [
    "m = geoai.Map(center = [42.50, -75.83], zoom = 15)\n",
    "m.add_basemap('USGS.USImagery')\n",
    "m"
   ]
  },
  {
   "cell_type": "code",
   "execution_count": 6,
   "id": "6965f26e-41e9-4c67-ad0c-3d59b2184b56",
   "metadata": {},
   "outputs": [],
   "source": [
    "bbox = m.user_roi_bounds()\n",
    "if bbox is None:\n",
    "    bbox = [-75.86426691884093, 42.33108038507448, -75.77199914738758, 42.51276536073047]"
   ]
  },
  {
   "cell_type": "code",
   "execution_count": 7,
   "id": "0597092c-ee68-4627-9ee2-2e94f03266e4",
   "metadata": {},
   "outputs": [
    {
     "data": {
      "text/plain": [
       "[-75.86426691884093, 42.33108038507448, -75.77199914738758, 42.51276536073047]"
      ]
     },
     "execution_count": 7,
     "metadata": {},
     "output_type": "execute_result"
    }
   ],
   "source": [
    "bbox"
   ]
  },
  {
   "cell_type": "code",
   "execution_count": 8,
   "id": "e1ef4428-dd50-429d-9d2a-02b86e5040e0",
   "metadata": {},
   "outputs": [
    {
     "name": "stdout",
     "output_type": "stream",
     "text": [
      "Found 1 items matching search criteria\n"
     ]
    }
   ],
   "source": [
    "items = geoai.pc_stac_search(\n",
    "    collection=\"3dep-lidar-dtm\",\n",
    "    bbox=bbox\n",
    ")"
   ]
  },
  {
   "cell_type": "code",
   "execution_count": 9,
   "id": "33c8e027-776e-4a91-894b-dd62e62c52e2",
   "metadata": {},
   "outputs": [
    {
     "data": {
      "text/plain": [
       "[<Item id=USGS_LPC_NY_MadisonOtsegoCo_2015_LAS_2017-dtm-2m-1-9>]"
      ]
     },
     "execution_count": 9,
     "metadata": {},
     "output_type": "execute_result"
    }
   ],
   "source": [
    "items"
   ]
  },
  {
   "cell_type": "code",
   "execution_count": 10,
   "id": "c92279c1-c8f4-4c1c-ad4a-93601758fc10",
   "metadata": {},
   "outputs": [
    {
     "data": {
      "text/plain": [
       "['data', 'thumbnail', 'tilejson', 'rendered_preview']"
      ]
     },
     "execution_count": 10,
     "metadata": {},
     "output_type": "execute_result"
    }
   ],
   "source": [
    "geoai.pc_item_asset_list(items[0])"
   ]
  },
  {
   "cell_type": "code",
   "execution_count": 11,
   "id": "59945984-9397-44b3-8be7-c4563cc02987",
   "metadata": {},
   "outputs": [
    {
     "data": {
      "text/html": [
       "<iframe srcdoc=\"&lt;!DOCTYPE html&gt;\n",
       "&lt;html&gt;\n",
       "&lt;head&gt;\n",
       "    \n",
       "    &lt;meta http-equiv=&quot;content-type&quot; content=&quot;text/html; charset=UTF-8&quot; /&gt;\n",
       "    &lt;script src=&quot;https://cdn.jsdelivr.net/npm/leaflet@1.9.3/dist/leaflet.js&quot;&gt;&lt;/script&gt;\n",
       "    &lt;script src=&quot;https://code.jquery.com/jquery-3.7.1.min.js&quot;&gt;&lt;/script&gt;\n",
       "    &lt;script src=&quot;https://cdn.jsdelivr.net/npm/bootstrap@5.2.2/dist/js/bootstrap.bundle.min.js&quot;&gt;&lt;/script&gt;\n",
       "    &lt;script src=&quot;https://cdnjs.cloudflare.com/ajax/libs/Leaflet.awesome-markers/2.0.2/leaflet.awesome-markers.js&quot;&gt;&lt;/script&gt;\n",
       "    &lt;link rel=&quot;stylesheet&quot; href=&quot;https://cdn.jsdelivr.net/npm/leaflet@1.9.3/dist/leaflet.css&quot;/&gt;\n",
       "    &lt;link rel=&quot;stylesheet&quot; href=&quot;https://cdn.jsdelivr.net/npm/bootstrap@5.2.2/dist/css/bootstrap.min.css&quot;/&gt;\n",
       "    &lt;link rel=&quot;stylesheet&quot; href=&quot;https://netdna.bootstrapcdn.com/bootstrap/3.0.0/css/bootstrap-glyphicons.css&quot;/&gt;\n",
       "    &lt;link rel=&quot;stylesheet&quot; href=&quot;https://cdn.jsdelivr.net/npm/@fortawesome/fontawesome-free@6.2.0/css/all.min.css&quot;/&gt;\n",
       "    &lt;link rel=&quot;stylesheet&quot; href=&quot;https://cdnjs.cloudflare.com/ajax/libs/Leaflet.awesome-markers/2.0.2/leaflet.awesome-markers.css&quot;/&gt;\n",
       "    &lt;link rel=&quot;stylesheet&quot; href=&quot;https://cdn.jsdelivr.net/gh/python-visualization/folium/folium/templates/leaflet.awesome.rotate.min.css&quot;/&gt;\n",
       "    \n",
       "            &lt;meta name=&quot;viewport&quot; content=&quot;width=device-width,\n",
       "                initial-scale=1.0, maximum-scale=1.0, user-scalable=no&quot; /&gt;\n",
       "            &lt;style&gt;\n",
       "                #map_551bcdddf5547f58ad57fe4a1df8fae8 {\n",
       "                    position: relative;\n",
       "                    width: 100.0%;\n",
       "                    height: 100.0%;\n",
       "                    left: 0.0%;\n",
       "                    top: 0.0%;\n",
       "                }\n",
       "                .leaflet-container { font-size: 1rem; }\n",
       "            &lt;/style&gt;\n",
       "\n",
       "            &lt;style&gt;html, body {\n",
       "                width: 100%;\n",
       "                height: 100%;\n",
       "                margin: 0;\n",
       "                padding: 0;\n",
       "            }\n",
       "            &lt;/style&gt;\n",
       "\n",
       "            &lt;style&gt;#map {\n",
       "                position:absolute;\n",
       "                top:0;\n",
       "                bottom:0;\n",
       "                right:0;\n",
       "                left:0;\n",
       "                }\n",
       "            &lt;/style&gt;\n",
       "\n",
       "            &lt;script&gt;\n",
       "                L_NO_TOUCH = false;\n",
       "                L_DISABLE_3D = false;\n",
       "            &lt;/script&gt;\n",
       "\n",
       "        \n",
       "    &lt;script src=&quot;https://cdn.jsdelivr.net/npm/leaflet.fullscreen@3.0.0/Control.FullScreen.min.js&quot;&gt;&lt;/script&gt;\n",
       "    &lt;link rel=&quot;stylesheet&quot; href=&quot;https://cdn.jsdelivr.net/npm/leaflet.fullscreen@3.0.0/Control.FullScreen.css&quot;/&gt;\n",
       "    &lt;script src=&quot;https://unpkg.com/leaflet-control-geocoder/dist/Control.Geocoder.js&quot;&gt;&lt;/script&gt;\n",
       "    &lt;link rel=&quot;stylesheet&quot; href=&quot;https://unpkg.com/leaflet-control-geocoder/dist/Control.Geocoder.css&quot;/&gt;\n",
       "&lt;/head&gt;\n",
       "&lt;body&gt;\n",
       "    \n",
       "    \n",
       "            &lt;div class=&quot;folium-map&quot; id=&quot;map_551bcdddf5547f58ad57fe4a1df8fae8&quot; &gt;&lt;/div&gt;\n",
       "        \n",
       "&lt;/body&gt;\n",
       "&lt;script&gt;\n",
       "    \n",
       "    \n",
       "            var map_551bcdddf5547f58ad57fe4a1df8fae8 = L.map(\n",
       "                &quot;map_551bcdddf5547f58ad57fe4a1df8fae8&quot;,\n",
       "                {\n",
       "                    center: [20.0, 0.0],\n",
       "                    crs: L.CRS.EPSG3857,\n",
       "                    ...{\n",
       "  &quot;zoom&quot;: 2,\n",
       "  &quot;zoomControl&quot;: true,\n",
       "  &quot;preferCanvas&quot;: false,\n",
       "  &quot;drawControl&quot;: false,\n",
       "  &quot;drawExport&quot;: false,\n",
       "  &quot;layersControl&quot;: true,\n",
       "}\n",
       "\n",
       "                }\n",
       "            );\n",
       "            L.control.scale().addTo(map_551bcdddf5547f58ad57fe4a1df8fae8);\n",
       "\n",
       "            \n",
       "\n",
       "        \n",
       "    \n",
       "            var tile_layer_51e84f734e995e409ef5408a9c540f2e = L.tileLayer(\n",
       "                &quot;https://tile.openstreetmap.org/{z}/{x}/{y}.png&quot;,\n",
       "                {\n",
       "  &quot;minZoom&quot;: 0,\n",
       "  &quot;maxZoom&quot;: 24,\n",
       "  &quot;maxNativeZoom&quot;: 24,\n",
       "  &quot;noWrap&quot;: false,\n",
       "  &quot;attribution&quot;: &quot;\\u0026copy; \\u003ca href=\\&quot;https://www.openstreetmap.org/copyright\\&quot;\\u003eOpenStreetMap\\u003c/a\\u003e contributors&quot;,\n",
       "  &quot;subdomains&quot;: &quot;abc&quot;,\n",
       "  &quot;detectRetina&quot;: false,\n",
       "  &quot;tms&quot;: false,\n",
       "  &quot;opacity&quot;: 1,\n",
       "}\n",
       "\n",
       "            );\n",
       "        \n",
       "    \n",
       "            tile_layer_51e84f734e995e409ef5408a9c540f2e.addTo(map_551bcdddf5547f58ad57fe4a1df8fae8);\n",
       "        \n",
       "    \n",
       "            L.control.fullscreen(\n",
       "                {\n",
       "  &quot;position&quot;: &quot;topleft&quot;,\n",
       "  &quot;title&quot;: &quot;Full Screen&quot;,\n",
       "  &quot;titleCancel&quot;: &quot;Exit Full Screen&quot;,\n",
       "  &quot;forceSeparateButton&quot;: false,\n",
       "}\n",
       "            ).addTo(map_551bcdddf5547f58ad57fe4a1df8fae8);\n",
       "        \n",
       "    \n",
       "\n",
       "            var geocoderOpts_geocoder_59a5c5c4aaffa58380df9f92826f2026 = {\n",
       "  &quot;collapsed&quot;: true,\n",
       "  &quot;position&quot;: &quot;topleft&quot;,\n",
       "  &quot;defaultMarkGeocode&quot;: true,\n",
       "  &quot;zoom&quot;: 11,\n",
       "  &quot;provider&quot;: &quot;nominatim&quot;,\n",
       "  &quot;providerOptions&quot;: {\n",
       "},\n",
       "};\n",
       "\n",
       "            // note: geocoder name should start with lowercase\n",
       "            var geocoderName_geocoder_59a5c5c4aaffa58380df9f92826f2026 = geocoderOpts_geocoder_59a5c5c4aaffa58380df9f92826f2026[&quot;provider&quot;];\n",
       "\n",
       "            var customGeocoder_geocoder_59a5c5c4aaffa58380df9f92826f2026 = L.Control.Geocoder[ geocoderName_geocoder_59a5c5c4aaffa58380df9f92826f2026 ](\n",
       "                geocoderOpts_geocoder_59a5c5c4aaffa58380df9f92826f2026[&#x27;providerOptions&#x27;]\n",
       "            );\n",
       "            geocoderOpts_geocoder_59a5c5c4aaffa58380df9f92826f2026[&quot;geocoder&quot;] = customGeocoder_geocoder_59a5c5c4aaffa58380df9f92826f2026;\n",
       "\n",
       "            L.Control.geocoder(\n",
       "                geocoderOpts_geocoder_59a5c5c4aaffa58380df9f92826f2026\n",
       "            ).on(&#x27;markgeocode&#x27;, function(e) {\n",
       "                var zoom = geocoderOpts_geocoder_59a5c5c4aaffa58380df9f92826f2026[&#x27;zoom&#x27;] || map_551bcdddf5547f58ad57fe4a1df8fae8.getZoom();\n",
       "                map_551bcdddf5547f58ad57fe4a1df8fae8.setView(e.geocode.center, zoom);\n",
       "            }).addTo(map_551bcdddf5547f58ad57fe4a1df8fae8);\n",
       "\n",
       "        \n",
       "    \n",
       "            map_551bcdddf5547f58ad57fe4a1df8fae8.fitBounds(\n",
       "                [[20, 0], [20, 0]],\n",
       "                {&quot;maxZoom&quot;: 2}\n",
       "            );\n",
       "        \n",
       "    \n",
       "            var tile_layer_20c375079d77a6c418e681f3bf1d46aa = L.tileLayer(\n",
       "                &quot;https://basemap.nationalmap.gov/arcgis/rest/services/USGSImageryOnly/MapServer/tile/{z}/{y}/{x}&quot;,\n",
       "                {\n",
       "  &quot;minZoom&quot;: 0,\n",
       "  &quot;maxZoom&quot;: 20,\n",
       "  &quot;maxNativeZoom&quot;: 20,\n",
       "  &quot;noWrap&quot;: false,\n",
       "  &quot;attribution&quot;: &quot;Tiles courtesy of the U.S. Geological Survey&quot;,\n",
       "  &quot;subdomains&quot;: &quot;abc&quot;,\n",
       "  &quot;detectRetina&quot;: false,\n",
       "  &quot;tms&quot;: false,\n",
       "  &quot;opacity&quot;: 1,\n",
       "}\n",
       "\n",
       "            );\n",
       "        \n",
       "    \n",
       "            tile_layer_20c375079d77a6c418e681f3bf1d46aa.addTo(map_551bcdddf5547f58ad57fe4a1df8fae8);\n",
       "        \n",
       "    \n",
       "            var tile_layer_b84489895769db94821a83706e6eb125 = L.tileLayer(\n",
       "                &quot;https://planetarycomputer.microsoft.com/api/data/v1/item/tiles/WebMercatorQuad/{z}/{x}/{y}@1x?collection=3dep-lidar-dtm\\u0026item=USGS_LPC_NY_MadisonOtsegoCo_2015_LAS_2017-dtm-2m-1-9\\u0026assets=data\\u0026rescale=115.711669921875%2C141.973876953125&quot;,\n",
       "                {\n",
       "  &quot;minZoom&quot;: 0,\n",
       "  &quot;maxZoom&quot;: 30,\n",
       "  &quot;maxNativeZoom&quot;: 30,\n",
       "  &quot;noWrap&quot;: false,\n",
       "  &quot;attribution&quot;: &quot;Planetary Computer&quot;,\n",
       "  &quot;subdomains&quot;: &quot;abc&quot;,\n",
       "  &quot;detectRetina&quot;: false,\n",
       "  &quot;tms&quot;: false,\n",
       "  &quot;opacity&quot;: 1.0,\n",
       "}\n",
       "\n",
       "            );\n",
       "        \n",
       "    \n",
       "            tile_layer_b84489895769db94821a83706e6eb125.addTo(map_551bcdddf5547f58ad57fe4a1df8fae8);\n",
       "        \n",
       "    \n",
       "            map_551bcdddf5547f58ad57fe4a1df8fae8.fitBounds(\n",
       "                [[42.449723, -75.8742756], [42.5242263, -75.7736133]],\n",
       "                {}\n",
       "            );\n",
       "        \n",
       "    \n",
       "            var layer_control_ead9383b6b02158a70cf12bcd76dbf22_layers = {\n",
       "                base_layers : {\n",
       "                    &quot;openstreetmap&quot; : tile_layer_51e84f734e995e409ef5408a9c540f2e,\n",
       "                },\n",
       "                overlays :  {\n",
       "                    &quot;USGS.USImagery&quot; : tile_layer_20c375079d77a6c418e681f3bf1d46aa,\n",
       "                    &quot;STAC Item&quot; : tile_layer_b84489895769db94821a83706e6eb125,\n",
       "                },\n",
       "            };\n",
       "            let layer_control_ead9383b6b02158a70cf12bcd76dbf22 = L.control.layers(\n",
       "                layer_control_ead9383b6b02158a70cf12bcd76dbf22_layers.base_layers,\n",
       "                layer_control_ead9383b6b02158a70cf12bcd76dbf22_layers.overlays,\n",
       "                {\n",
       "  &quot;position&quot;: &quot;topright&quot;,\n",
       "  &quot;collapsed&quot;: true,\n",
       "  &quot;autoZIndex&quot;: true,\n",
       "}\n",
       "            ).addTo(map_551bcdddf5547f58ad57fe4a1df8fae8);\n",
       "\n",
       "        \n",
       "&lt;/script&gt;\n",
       "&lt;/html&gt;\" width=\"100%\" height=\"600\"style=\"border:none !important;\" \"allowfullscreen\" \"webkitallowfullscreen\" \"mozallowfullscreen\"></iframe>"
      ],
      "text/plain": [
       "<leafmap.foliumap.Map at 0x32814fbf0>"
      ]
     },
     "execution_count": 11,
     "metadata": {},
     "output_type": "execute_result"
    }
   ],
   "source": [
    "geoai.view_pc_item(item=items[0], basemap='USGS.USImagery')"
   ]
  },
  {
   "cell_type": "code",
   "execution_count": 17,
   "id": "c3b8bffc-0b9b-4312-a782-b4881e583dad",
   "metadata": {},
   "outputs": [
    {
     "name": "stdout",
     "output_type": "stream",
     "text": [
      "no\n"
     ]
    }
   ],
   "source": [
    "if os.path.exists(\"NYS_Testing/Rasters/USGS_LPC_NY_MadisonOtsegoCo_2015_LAS_2017-dtm-2m-1-9_data.tif\") is True: \n",
    "    print(\"no\") \n",
    "else:\n",
    "    #print(\"yes\")\n",
    "    geoai.pc_stac_download(items=items[0], output_dir=\"NYS_Testing/Rasters/\")"
   ]
  },
  {
   "cell_type": "code",
   "execution_count": 18,
   "id": "14cbd83b-b3fb-4b06-9d74-9c2d89f11911",
   "metadata": {},
   "outputs": [],
   "source": [
    "dtm = geoai.read_raster(\"NYS_Testing/Rasters/USGS_1M_18_x43y471_NY_FEMAR2_Central_2018_D19.tif\")"
   ]
  },
  {
   "cell_type": "code",
   "execution_count": 60,
   "id": "e432276a-f693-4fcd-b93c-3fb3dffc3531",
   "metadata": {},
   "outputs": [],
   "source": [
    "dtm_prj = dtm.rio.reproject(\"EPSG:3857\")\n",
    "dtm_prj.rio.to_raster(\"NYS_Testing/Rasters/USGS_LPC_NY_MadisonOtsegoCo_2015_LAS_2017-dtm-2m-1-9_data_reproject.tif\")"
   ]
  },
  {
   "cell_type": "code",
   "execution_count": 45,
   "id": "e194396c-83ea-4c57-a6ab-c2c0fe319055",
   "metadata": {},
   "outputs": [
    {
     "data": {
      "text/html": [
       "<iframe srcdoc=\"&lt;!DOCTYPE html&gt;\n",
       "&lt;html&gt;\n",
       "&lt;head&gt;\n",
       "    \n",
       "    &lt;meta http-equiv=&quot;content-type&quot; content=&quot;text/html; charset=UTF-8&quot; /&gt;\n",
       "    &lt;script src=&quot;https://cdn.jsdelivr.net/npm/leaflet@1.9.3/dist/leaflet.js&quot;&gt;&lt;/script&gt;\n",
       "    &lt;script src=&quot;https://code.jquery.com/jquery-3.7.1.min.js&quot;&gt;&lt;/script&gt;\n",
       "    &lt;script src=&quot;https://cdn.jsdelivr.net/npm/bootstrap@5.2.2/dist/js/bootstrap.bundle.min.js&quot;&gt;&lt;/script&gt;\n",
       "    &lt;script src=&quot;https://cdnjs.cloudflare.com/ajax/libs/Leaflet.awesome-markers/2.0.2/leaflet.awesome-markers.js&quot;&gt;&lt;/script&gt;\n",
       "    &lt;link rel=&quot;stylesheet&quot; href=&quot;https://cdn.jsdelivr.net/npm/leaflet@1.9.3/dist/leaflet.css&quot;/&gt;\n",
       "    &lt;link rel=&quot;stylesheet&quot; href=&quot;https://cdn.jsdelivr.net/npm/bootstrap@5.2.2/dist/css/bootstrap.min.css&quot;/&gt;\n",
       "    &lt;link rel=&quot;stylesheet&quot; href=&quot;https://netdna.bootstrapcdn.com/bootstrap/3.0.0/css/bootstrap-glyphicons.css&quot;/&gt;\n",
       "    &lt;link rel=&quot;stylesheet&quot; href=&quot;https://cdn.jsdelivr.net/npm/@fortawesome/fontawesome-free@6.2.0/css/all.min.css&quot;/&gt;\n",
       "    &lt;link rel=&quot;stylesheet&quot; href=&quot;https://cdnjs.cloudflare.com/ajax/libs/Leaflet.awesome-markers/2.0.2/leaflet.awesome-markers.css&quot;/&gt;\n",
       "    &lt;link rel=&quot;stylesheet&quot; href=&quot;https://cdn.jsdelivr.net/gh/python-visualization/folium/folium/templates/leaflet.awesome.rotate.min.css&quot;/&gt;\n",
       "    \n",
       "            &lt;meta name=&quot;viewport&quot; content=&quot;width=device-width,\n",
       "                initial-scale=1.0, maximum-scale=1.0, user-scalable=no&quot; /&gt;\n",
       "            &lt;style&gt;\n",
       "                #map_3e56c57faef956c7ef80524993b2a858 {\n",
       "                    position: relative;\n",
       "                    width: 100.0%;\n",
       "                    height: 100.0%;\n",
       "                    left: 0.0%;\n",
       "                    top: 0.0%;\n",
       "                }\n",
       "                .leaflet-container { font-size: 1rem; }\n",
       "            &lt;/style&gt;\n",
       "\n",
       "            &lt;style&gt;html, body {\n",
       "                width: 100%;\n",
       "                height: 100%;\n",
       "                margin: 0;\n",
       "                padding: 0;\n",
       "            }\n",
       "            &lt;/style&gt;\n",
       "\n",
       "            &lt;style&gt;#map {\n",
       "                position:absolute;\n",
       "                top:0;\n",
       "                bottom:0;\n",
       "                right:0;\n",
       "                left:0;\n",
       "                }\n",
       "            &lt;/style&gt;\n",
       "\n",
       "            &lt;script&gt;\n",
       "                L_NO_TOUCH = false;\n",
       "                L_DISABLE_3D = false;\n",
       "            &lt;/script&gt;\n",
       "\n",
       "        \n",
       "    &lt;script src=&quot;https://cdn.jsdelivr.net/npm/leaflet.fullscreen@3.0.0/Control.FullScreen.min.js&quot;&gt;&lt;/script&gt;\n",
       "    &lt;link rel=&quot;stylesheet&quot; href=&quot;https://cdn.jsdelivr.net/npm/leaflet.fullscreen@3.0.0/Control.FullScreen.css&quot;/&gt;\n",
       "    &lt;script src=&quot;https://cdnjs.cloudflare.com/ajax/libs/leaflet.draw/1.0.2/leaflet.draw.js&quot;&gt;&lt;/script&gt;\n",
       "    &lt;link rel=&quot;stylesheet&quot; href=&quot;https://cdnjs.cloudflare.com/ajax/libs/leaflet.draw/1.0.2/leaflet.draw.css&quot;/&gt;\n",
       "    &lt;script src=&quot;https://unpkg.com/leaflet-control-geocoder/dist/Control.Geocoder.js&quot;&gt;&lt;/script&gt;\n",
       "    &lt;link rel=&quot;stylesheet&quot; href=&quot;https://unpkg.com/leaflet-control-geocoder/dist/Control.Geocoder.css&quot;/&gt;\n",
       "&lt;/head&gt;\n",
       "&lt;body&gt;\n",
       "    \n",
       "    \n",
       "            &lt;div class=&quot;folium-map&quot; id=&quot;map_3e56c57faef956c7ef80524993b2a858&quot; &gt;&lt;/div&gt;\n",
       "        \n",
       "    \n",
       "            \n",
       "        \n",
       "&lt;/body&gt;\n",
       "&lt;script&gt;\n",
       "    \n",
       "    \n",
       "            var map_3e56c57faef956c7ef80524993b2a858 = L.map(\n",
       "                &quot;map_3e56c57faef956c7ef80524993b2a858&quot;,\n",
       "                {\n",
       "                    center: [20.0, 0.0],\n",
       "                    crs: L.CRS.EPSG3857,\n",
       "                    ...{\n",
       "  &quot;zoom&quot;: 2,\n",
       "  &quot;zoomControl&quot;: true,\n",
       "  &quot;preferCanvas&quot;: false,\n",
       "  &quot;drawExport&quot;: false,\n",
       "  &quot;layersControl&quot;: true,\n",
       "}\n",
       "\n",
       "                }\n",
       "            );\n",
       "            L.control.scale().addTo(map_3e56c57faef956c7ef80524993b2a858);\n",
       "\n",
       "            \n",
       "\n",
       "        \n",
       "    \n",
       "            var tile_layer_3324ca29fb2f7bfddaed10fabd1521b9 = L.tileLayer(\n",
       "                &quot;https://tile.openstreetmap.org/{z}/{x}/{y}.png&quot;,\n",
       "                {\n",
       "  &quot;minZoom&quot;: 0,\n",
       "  &quot;maxZoom&quot;: 24,\n",
       "  &quot;maxNativeZoom&quot;: 24,\n",
       "  &quot;noWrap&quot;: false,\n",
       "  &quot;attribution&quot;: &quot;\\u0026copy; \\u003ca href=\\&quot;https://www.openstreetmap.org/copyright\\&quot;\\u003eOpenStreetMap\\u003c/a\\u003e contributors&quot;,\n",
       "  &quot;subdomains&quot;: &quot;abc&quot;,\n",
       "  &quot;detectRetina&quot;: false,\n",
       "  &quot;tms&quot;: false,\n",
       "  &quot;opacity&quot;: 1,\n",
       "}\n",
       "\n",
       "            );\n",
       "        \n",
       "    \n",
       "            tile_layer_3324ca29fb2f7bfddaed10fabd1521b9.addTo(map_3e56c57faef956c7ef80524993b2a858);\n",
       "        \n",
       "    \n",
       "            L.control.fullscreen(\n",
       "                {\n",
       "  &quot;position&quot;: &quot;topleft&quot;,\n",
       "  &quot;title&quot;: &quot;Full Screen&quot;,\n",
       "  &quot;titleCancel&quot;: &quot;Exit Full Screen&quot;,\n",
       "  &quot;forceSeparateButton&quot;: false,\n",
       "}\n",
       "            ).addTo(map_3e56c57faef956c7ef80524993b2a858);\n",
       "        \n",
       "    \n",
       "            var options = {\n",
       "              position: &quot;topleft&quot;,\n",
       "              draw: {},\n",
       "              edit: {},\n",
       "            }\n",
       "                // FeatureGroup is to store editable layers.\n",
       "                var drawnItems_draw_control_8c72df03cd923aac9587353cf0d484d6 =\n",
       "                    new L.featureGroup().addTo(\n",
       "                        map_3e56c57faef956c7ef80524993b2a858\n",
       "                    );\n",
       "\n",
       "            options.edit.featureGroup = drawnItems_draw_control_8c72df03cd923aac9587353cf0d484d6;\n",
       "            var draw_control_8c72df03cd923aac9587353cf0d484d6 = new L.Control.Draw(\n",
       "                options\n",
       "            ).addTo( map_3e56c57faef956c7ef80524993b2a858 );\n",
       "            map_3e56c57faef956c7ef80524993b2a858.on(L.Draw.Event.CREATED, function(e) {\n",
       "                var layer = e.layer,\n",
       "                    type = e.layerType;\n",
       "                var coords = JSON.stringify(layer.toGeoJSON());\n",
       "                layer.on(&#x27;click&#x27;, function() {\n",
       "                    alert(coords);\n",
       "                    console.log(coords);\n",
       "                });\n",
       "                drawnItems_draw_control_8c72df03cd923aac9587353cf0d484d6.addLayer(layer);\n",
       "            });\n",
       "            map_3e56c57faef956c7ef80524993b2a858.on(&#x27;draw:created&#x27;, function(e) {\n",
       "                drawnItems_draw_control_8c72df03cd923aac9587353cf0d484d6.addLayer(e.layer);\n",
       "            });\n",
       "\n",
       "            \n",
       "        \n",
       "    \n",
       "\n",
       "            var geocoderOpts_geocoder_69bea0f6d903c385a31b1d5b61402b08 = {\n",
       "  &quot;collapsed&quot;: true,\n",
       "  &quot;position&quot;: &quot;topleft&quot;,\n",
       "  &quot;defaultMarkGeocode&quot;: true,\n",
       "  &quot;zoom&quot;: 11,\n",
       "  &quot;provider&quot;: &quot;nominatim&quot;,\n",
       "  &quot;providerOptions&quot;: {\n",
       "},\n",
       "};\n",
       "\n",
       "            // note: geocoder name should start with lowercase\n",
       "            var geocoderName_geocoder_69bea0f6d903c385a31b1d5b61402b08 = geocoderOpts_geocoder_69bea0f6d903c385a31b1d5b61402b08[&quot;provider&quot;];\n",
       "\n",
       "            var customGeocoder_geocoder_69bea0f6d903c385a31b1d5b61402b08 = L.Control.Geocoder[ geocoderName_geocoder_69bea0f6d903c385a31b1d5b61402b08 ](\n",
       "                geocoderOpts_geocoder_69bea0f6d903c385a31b1d5b61402b08[&#x27;providerOptions&#x27;]\n",
       "            );\n",
       "            geocoderOpts_geocoder_69bea0f6d903c385a31b1d5b61402b08[&quot;geocoder&quot;] = customGeocoder_geocoder_69bea0f6d903c385a31b1d5b61402b08;\n",
       "\n",
       "            L.Control.geocoder(\n",
       "                geocoderOpts_geocoder_69bea0f6d903c385a31b1d5b61402b08\n",
       "            ).on(&#x27;markgeocode&#x27;, function(e) {\n",
       "                var zoom = geocoderOpts_geocoder_69bea0f6d903c385a31b1d5b61402b08[&#x27;zoom&#x27;] || map_3e56c57faef956c7ef80524993b2a858.getZoom();\n",
       "                map_3e56c57faef956c7ef80524993b2a858.setView(e.geocode.center, zoom);\n",
       "            }).addTo(map_3e56c57faef956c7ef80524993b2a858);\n",
       "\n",
       "        \n",
       "    \n",
       "            map_3e56c57faef956c7ef80524993b2a858.fitBounds(\n",
       "                [[20, 0], [20, 0]],\n",
       "                {&quot;maxZoom&quot;: 2}\n",
       "            );\n",
       "        \n",
       "    \n",
       "            var tile_layer_73aef140a9aa138007306b330f897317 = L.tileLayer(\n",
       "                &quot;http://127.0.0.1:50935/api/tiles/{z}/{x}/{y}.png?\\u0026filename=%2Fvsimem%2F600b47dc-9adf-4a13-a80e-76b38b874fd3%2F600b47dc-9adf-4a13-a80e-76b38b874fd3.tif&quot;,\n",
       "                {\n",
       "  &quot;minZoom&quot;: 0,\n",
       "  &quot;maxZoom&quot;: 30,\n",
       "  &quot;maxNativeZoom&quot;: 30,\n",
       "  &quot;noWrap&quot;: false,\n",
       "  &quot;attribution&quot;: &quot;Raster file served by \\u003ca href=\\u0027https://github.com/banesullivan/localtileserver\\u0027 target=\\u0027_blank\\u0027\\u003elocaltileserver\\u003c/a\\u003e.&quot;,\n",
       "  &quot;subdomains&quot;: &quot;abc&quot;,\n",
       "  &quot;detectRetina&quot;: false,\n",
       "  &quot;tms&quot;: false,\n",
       "  &quot;opacity&quot;: 1.0,\n",
       "  &quot;bounds&quot;: [[42.449112, -75.852537], [42.540113, -75.729569]],\n",
       "  &quot;zoomToLayer&quot;: true,\n",
       "  &quot;visible&quot;: true,\n",
       "  &quot;corsAll&quot;: false,\n",
       "}\n",
       "\n",
       "            );\n",
       "        \n",
       "    \n",
       "            tile_layer_73aef140a9aa138007306b330f897317.addTo(map_3e56c57faef956c7ef80524993b2a858);\n",
       "        \n",
       "    \n",
       "            map_3e56c57faef956c7ef80524993b2a858.fitBounds(\n",
       "                [[42.449112, -75.852537], [42.540113, -75.729569]],\n",
       "                {}\n",
       "            );\n",
       "        \n",
       "    \n",
       "            var layer_control_dd19730a96f9da1db4aa7dbc6eed51e5_layers = {\n",
       "                base_layers : {\n",
       "                    &quot;openstreetmap&quot; : tile_layer_3324ca29fb2f7bfddaed10fabd1521b9,\n",
       "                },\n",
       "                overlays :  {\n",
       "                    &quot;Raster&quot; : tile_layer_73aef140a9aa138007306b330f897317,\n",
       "                },\n",
       "            };\n",
       "            let layer_control_dd19730a96f9da1db4aa7dbc6eed51e5 = L.control.layers(\n",
       "                layer_control_dd19730a96f9da1db4aa7dbc6eed51e5_layers.base_layers,\n",
       "                layer_control_dd19730a96f9da1db4aa7dbc6eed51e5_layers.overlays,\n",
       "                {\n",
       "  &quot;position&quot;: &quot;topright&quot;,\n",
       "  &quot;collapsed&quot;: true,\n",
       "  &quot;autoZIndex&quot;: true,\n",
       "}\n",
       "            ).addTo(map_3e56c57faef956c7ef80524993b2a858);\n",
       "\n",
       "        \n",
       "&lt;/script&gt;\n",
       "&lt;/html&gt;\" width=\"100%\" height=\"600\"style=\"border:none !important;\" \"allowfullscreen\" \"webkitallowfullscreen\" \"mozallowfullscreen\"></iframe>"
      ],
      "text/plain": [
       "<leafmap.foliumap.Map at 0x32f2cc8c0>"
      ]
     },
     "execution_count": 45,
     "metadata": {},
     "output_type": "execute_result"
    }
   ],
   "source": [
    "geoai.view_raster(dtm_prj)"
   ]
  },
  {
   "cell_type": "code",
   "execution_count": 52,
   "id": "4a3fe49c-8d52-47d9-a1a2-1322991c304c",
   "metadata": {},
   "outputs": [],
   "source": [
    "bbox_geometry = leafmap.bbox_to_gdf(bbox)\n",
    "nwi_gdf = leafmap.get_nwi(bbox_geometry)\n",
    "nwi_gdf.head()\n",
    "m.add_nwi(nwi_gdf, col_name=\"Wetlands.WETLAND_TYPE\")"
   ]
  },
  {
   "cell_type": "code",
   "execution_count": 53,
   "id": "e3e85306-62a4-4268-83d8-f909290eb42a",
   "metadata": {},
   "outputs": [],
   "source": [
    "m.add_raster(dtm_prj)"
   ]
  },
  {
   "cell_type": "code",
   "execution_count": 54,
   "id": "ebfbe830-ebda-4e6f-8792-2629b4b54748",
   "metadata": {},
   "outputs": [
    {
     "data": {
      "application/vnd.jupyter.widget-view+json": {
       "model_id": "2e4c797c4289426badde90210085a831",
       "version_major": 2,
       "version_minor": 0
      },
      "text/plain": [
       "Map(bottom=3098554.0, center=[42.4946125, -75.791053], controls=(ZoomControl(options=['position', 'zoom_in_tex…"
      ]
     },
     "execution_count": 54,
     "metadata": {},
     "output_type": "execute_result"
    }
   ],
   "source": [
    "m"
   ]
  },
  {
   "cell_type": "code",
   "execution_count": 55,
   "id": "e706a97c-6367-4877-8dc0-d985fc1ed7db",
   "metadata": {},
   "outputs": [
    {
     "data": {
      "text/plain": [
       "<Projected CRS: EPSG:3857>\n",
       "Name: WGS 84 / Pseudo-Mercator\n",
       "Axis Info [cartesian]:\n",
       "- X[east]: Easting (metre)\n",
       "- Y[north]: Northing (metre)\n",
       "Area of Use:\n",
       "- name: World between 85.06°S and 85.06°N.\n",
       "- bounds: (-180.0, -85.06, 180.0, 85.06)\n",
       "Coordinate Operation:\n",
       "- name: Popular Visualisation Pseudo-Mercator\n",
       "- method: Popular Visualisation Pseudo Mercator\n",
       "Datum: World Geodetic System 1984 ensemble\n",
       "- Ellipsoid: WGS 84\n",
       "- Prime Meridian: Greenwich"
      ]
     },
     "execution_count": 55,
     "metadata": {},
     "output_type": "execute_result"
    }
   ],
   "source": [
    "nwi_geojson = \"NWI/nwi_wetlands.geojson\"\n",
    "nwi_gdf.crs#to_file(nwi_geojson)\n",
    "#geoai.view_vector(nwi_geojson)"
   ]
  },
  {
   "cell_type": "code",
   "execution_count": 61,
   "id": "3cfbbd0d-0eb0-461b-b3a4-96d3c3f6f6ac",
   "metadata": {},
   "outputs": [
    {
     "name": "stdout",
     "output_type": "stream",
     "text": [
      "\n",
      "Raster info for NYS_Testing/Rasters/USGS_LPC_NY_MadisonOtsegoCo_2015_LAS_2017-dtm-2m-1-9_data_reproject.tif:\n",
      "  CRS: EPSG:3857\n",
      "  Dimensions: 10087 x 10124\n",
      "  Resolution: (1.3570624138428968, 1.3570624138429617)\n",
      "  Bands: 1\n",
      "  Bounds: BoundingBox(left=-8443865.758389458, bottom=5228493.392799926, right=-8430177.069821024, top=5242232.292677673)\n",
      "Loaded 951 features from NWI/nwi_wetlands.geojson\n",
      "Vector CRS: EPSG:3857\n",
      "WARNING: 'class' not found in vector data. Using default class ID 1.\n"
     ]
    },
    {
     "name": "stderr",
     "output_type": "stream",
     "text": [
      "Generated: 860, With features: 860: 100%|██| 1521/1521 [00:06<00:00, 234.29it/s]\n"
     ]
    },
    {
     "name": "stdout",
     "output_type": "stream",
     "text": [
      "\n",
      "------- Export Summary -------\n",
      "Total tiles exported: 860\n",
      "Tiles with features: 860 (100.0%)\n",
      "Average feature pixels per tile: 17049.2\n",
      "Output saved to: NWI\n",
      "\n",
      "------- Georeference Verification -------\n"
     ]
    }
   ],
   "source": [
    "out_folder = \"NWI\"\n",
    "tiles = geoai.export_geotiff_tiles(\n",
    "    in_raster= \"NYS_Testing/Rasters/USGS_LPC_NY_MadisonOtsegoCo_2015_LAS_2017-dtm-2m-1-9_data_reproject.tif\",\n",
    "    out_folder=out_folder,\n",
    "    in_class_data=nwi_geojson,\n",
    "    tile_size=512,\n",
    "    stride=256,\n",
    "    buffer_radius=0,\n",
    "    skip_empty_tiles=True,\n",
    ")"
   ]
  },
  {
   "cell_type": "code",
   "execution_count": 64,
   "id": "df5f96f2-e23f-478d-bb4e-8d79141cfd06",
   "metadata": {},
   "outputs": [
    {
     "data": {
      "text/plain": [
       "<matplotlib.collections.QuadMesh at 0x33467b800>"
      ]
     },
     "execution_count": 64,
     "metadata": {},
     "output_type": "execute_result"
    },
    {
     "data": {
      "image/png": "[encoded data removed]",
      "text/plain": [
       "<Figure size 640x480 with 2 Axes>"
      ]
     },
     "metadata": {},
     "output_type": "display_data"
    }
   ],
   "source": [
    "test = geoai.read_raster(\"NWI/labels/tile_000257.tif\")\n",
    "test.plot()"
   ]
  },
  {
   "cell_type": "code",
   "execution_count": 65,
   "id": "dade3b2a-8613-47ba-8fc8-1b9f85315402",
   "metadata": {},
   "outputs": [
    {
     "data": {
      "text/plain": [
       "'NWI/images'"
      ]
     },
     "execution_count": 65,
     "metadata": {},
     "output_type": "execute_result"
    }
   ],
   "source": [
    "f\"{out_folder}/images\""
   ]
  },
  {
   "cell_type": "code",
   "execution_count": 67,
   "id": "f740da4e-30c4-42d2-af66-86fe54b5f037",
   "metadata": {},
   "outputs": [
    {
     "name": "stdout",
     "output_type": "stream",
     "text": [
      "Using device: cpu\n",
      "Found 860 image files and 860 label files\n",
      "Training on 688 images, validating on 172 images\n",
      "Downloading: \"https://download.pytorch.org/models/maskrcnn_resnet50_fpn_coco-bf2d0c1e.pth\" to /Users/Anthony/.cache/torch/hub/checkpoints/maskrcnn_resnet50_fpn_coco-bf2d0c1e.pth\n"
     ]
    },
    {
     "name": "stderr",
     "output_type": "stream",
     "text": [
      "100%|████████████████████████████████████████| 170M/170M [00:03<00:00, 56.9MB/s]\n"
     ]
    },
    {
     "name": "stdout",
     "output_type": "stream",
     "text": [
      "Epoch: 0, Batch: 0/172, Loss: 6.0916, Time: 21.93s\n",
      "Epoch: 0, Batch: 10/172, Loss: nan, Time: 93.56s\n",
      "Epoch: 0, Batch: 20/172, Loss: nan, Time: 92.21s\n",
      "Epoch: 0, Batch: 30/172, Loss: nan, Time: 92.05s\n",
      "Epoch: 0, Batch: 40/172, Loss: nan, Time: 96.44s\n",
      "Epoch: 0, Batch: 50/172, Loss: nan, Time: 93.72s\n",
      "Epoch: 0, Batch: 60/172, Loss: nan, Time: 92.67s\n",
      "Epoch: 0, Batch: 70/172, Loss: nan, Time: 93.36s\n",
      "Epoch: 0, Batch: 80/172, Loss: nan, Time: 93.18s\n",
      "Epoch: 0, Batch: 90/172, Loss: nan, Time: 92.22s\n",
      "Epoch: 0, Batch: 100/172, Loss: nan, Time: 91.91s\n",
      "Epoch: 0, Batch: 110/172, Loss: nan, Time: 92.32s\n",
      "Epoch: 0, Batch: 120/172, Loss: nan, Time: 92.03s\n",
      "Epoch: 0, Batch: 130/172, Loss: nan, Time: 91.93s\n",
      "Epoch: 0, Batch: 140/172, Loss: nan, Time: 92.02s\n",
      "Epoch: 0, Batch: 150/172, Loss: nan, Time: 92.59s\n",
      "Epoch: 0, Batch: 160/172, Loss: nan, Time: 92.53s\n",
      "Epoch: 0, Batch: 170/172, Loss: nan, Time: 92.22s\n",
      "Epoch 1/5: Train Loss: nan, Val Loss: inf, Val IoU: 0.0000\n",
      "Epoch: 1, Batch: 0/172, Loss: nan, Time: 17.87s\n",
      "Epoch: 1, Batch: 10/172, Loss: nan, Time: 96.97s\n",
      "Epoch: 1, Batch: 20/172, Loss: nan, Time: 95.26s\n",
      "Epoch: 1, Batch: 30/172, Loss: nan, Time: 95.78s\n",
      "Epoch: 1, Batch: 40/172, Loss: nan, Time: 97.18s\n"
     ]
    },
    {
     "name": "stderr",
     "output_type": "stream",
     "text": [
      "Exception ignored in: <function _MultiProcessingDataLoaderIter.__del__ at 0x30cd50fe0>\n",
      "Traceback (most recent call last):\n",
      "  File \"/opt/miniconda3/envs/geo_ai/lib/python3.12/site-packages/torch/utils/data/dataloader.py\", line 1663, in __del__\n",
      "    self._shutdown_workers()\n",
      "  File \"/opt/miniconda3/envs/geo_ai/lib/python3.12/site-packages/torch/utils/data/dataloader.py\", line 1627, in _shutdown_workers\n",
      "    w.join(timeout=_utils.MP_STATUS_CHECK_INTERVAL)\n",
      "  File \"/opt/miniconda3/envs/geo_ai/lib/python3.12/multiprocessing/process.py\", line 149, in join\n",
      "    res = self._popen.wait(timeout)\n",
      "          ^^^^^^^^^^^^^^^^^^^^^^^^^\n",
      "  File \"/opt/miniconda3/envs/geo_ai/lib/python3.12/multiprocessing/popen_fork.py\", line 40, in wait\n",
      "    if not wait([self.sentinel], timeout):\n",
      "           ^^^^^^^^^^^^^^^^^^^^^^^^^^^^^^\n",
      "  File \"/opt/miniconda3/envs/geo_ai/lib/python3.12/multiprocessing/connection.py\", line 1136, in wait\n",
      "    ready = selector.select(timeout)\n",
      "            ^^^^^^^^^^^^^^^^^^^^^^^^\n",
      "  File \"/opt/miniconda3/envs/geo_ai/lib/python3.12/selectors.py\", line 415, in select\n",
      "    fd_event_list = self._selector.poll(timeout)\n",
      "                    ^^^^^^^^^^^^^^^^^^^^^^^^^^^^\n",
      "KeyboardInterrupt: \n"
     ]
    },
    {
     "ename": "KeyboardInterrupt",
     "evalue": "",
     "output_type": "error",
     "traceback": [
      "\u001b[31m---------------------------------------------------------------------------\u001b[39m",
      "\u001b[31mKeyboardInterrupt\u001b[39m                         Traceback (most recent call last)",
      "\u001b[36mCell\u001b[39m\u001b[36m \u001b[39m\u001b[32mIn[67]\u001b[39m\u001b[32m, line 1\u001b[39m\n\u001b[32m----> \u001b[39m\u001b[32m1\u001b[39m \u001b[43mgeoai\u001b[49m\u001b[43m.\u001b[49m\u001b[43mtrain_MaskRCNN_model\u001b[49m\u001b[43m(\u001b[49m\n\u001b[32m      2\u001b[39m \u001b[43m    \u001b[49m\u001b[43mimages_dir\u001b[49m\u001b[43m=\u001b[49m\u001b[33;43mf\u001b[39;49m\u001b[33;43m\"\u001b[39;49m\u001b[38;5;132;43;01m{\u001b[39;49;00m\u001b[43mout_folder\u001b[49m\u001b[38;5;132;43;01m}\u001b[39;49;00m\u001b[33;43m/images\u001b[39;49m\u001b[33;43m\"\u001b[39;49m\u001b[43m,\u001b[49m\n\u001b[32m      3\u001b[39m \u001b[43m    \u001b[49m\u001b[43mlabels_dir\u001b[49m\u001b[43m=\u001b[49m\u001b[33;43mf\u001b[39;49m\u001b[33;43m\"\u001b[39;49m\u001b[38;5;132;43;01m{\u001b[39;49;00m\u001b[43mout_folder\u001b[49m\u001b[38;5;132;43;01m}\u001b[39;49;00m\u001b[33;43m/labels\u001b[39;49m\u001b[33;43m\"\u001b[39;49m\u001b[43m,\u001b[49m\n\u001b[32m      4\u001b[39m \u001b[43m    \u001b[49m\u001b[43moutput_dir\u001b[49m\u001b[43m=\u001b[49m\u001b[33;43mf\u001b[39;49m\u001b[33;43m\"\u001b[39;49m\u001b[38;5;132;43;01m{\u001b[39;49;00m\u001b[43mout_folder\u001b[49m\u001b[38;5;132;43;01m}\u001b[39;49;00m\u001b[33;43m/models\u001b[39;49m\u001b[33;43m\"\u001b[39;49m\u001b[43m,\u001b[49m\n\u001b[32m      5\u001b[39m \u001b[43m    \u001b[49m\u001b[43mnum_channels\u001b[49m\u001b[43m=\u001b[49m\u001b[32;43m4\u001b[39;49m\u001b[43m,\u001b[49m\n\u001b[32m      6\u001b[39m \u001b[43m    \u001b[49m\u001b[43mpretrained\u001b[49m\u001b[43m=\u001b[49m\u001b[38;5;28;43;01mTrue\u001b[39;49;00m\u001b[43m,\u001b[49m\n\u001b[32m      7\u001b[39m \u001b[43m    \u001b[49m\u001b[43mbatch_size\u001b[49m\u001b[43m=\u001b[49m\u001b[32;43m4\u001b[39;49m\u001b[43m,\u001b[49m\n\u001b[32m      8\u001b[39m \u001b[43m    \u001b[49m\u001b[43mnum_epochs\u001b[49m\u001b[43m=\u001b[49m\u001b[32;43m5\u001b[39;49m\u001b[43m,\u001b[49m\n\u001b[32m      9\u001b[39m \u001b[43m    \u001b[49m\u001b[43mlearning_rate\u001b[49m\u001b[43m=\u001b[49m\u001b[32;43m0.005\u001b[39;49m\u001b[43m,\u001b[49m\n\u001b[32m     10\u001b[39m \u001b[43m    \u001b[49m\u001b[43mval_split\u001b[49m\u001b[43m=\u001b[49m\u001b[32;43m0.2\u001b[39;49m\u001b[43m,\u001b[49m\n\u001b[32m     11\u001b[39m \u001b[43m)\u001b[49m\n",
      "\u001b[36mFile \u001b[39m\u001b[32m/opt/miniconda3/envs/geo_ai/lib/python3.12/site-packages/geoai/train.py:782\u001b[39m, in \u001b[36mtrain_MaskRCNN_model\u001b[39m\u001b[34m(images_dir, labels_dir, output_dir, num_channels, model, pretrained, pretrained_model_path, batch_size, num_epochs, learning_rate, seed, val_split, visualize, resume_training, print_freq, verbose)\u001b[39m\n\u001b[32m    779\u001b[39m \u001b[38;5;66;03m# Training loop\u001b[39;00m\n\u001b[32m    780\u001b[39m \u001b[38;5;28;01mfor\u001b[39;00m epoch \u001b[38;5;129;01min\u001b[39;00m \u001b[38;5;28mrange\u001b[39m(start_epoch, num_epochs):\n\u001b[32m    781\u001b[39m     \u001b[38;5;66;03m# Train one epoch\u001b[39;00m\n\u001b[32m--> \u001b[39m\u001b[32m782\u001b[39m     train_loss = \u001b[43mtrain_one_epoch\u001b[49m\u001b[43m(\u001b[49m\n\u001b[32m    783\u001b[39m \u001b[43m        \u001b[49m\u001b[43mmodel\u001b[49m\u001b[43m,\u001b[49m\u001b[43m \u001b[49m\u001b[43moptimizer\u001b[49m\u001b[43m,\u001b[49m\u001b[43m \u001b[49m\u001b[43mtrain_loader\u001b[49m\u001b[43m,\u001b[49m\u001b[43m \u001b[49m\u001b[43mdevice\u001b[49m\u001b[43m,\u001b[49m\u001b[43m \u001b[49m\u001b[43mepoch\u001b[49m\u001b[43m,\u001b[49m\u001b[43m \u001b[49m\u001b[43mprint_freq\u001b[49m\u001b[43m,\u001b[49m\u001b[43m \u001b[49m\u001b[43mverbose\u001b[49m\n\u001b[32m    784\u001b[39m \u001b[43m    \u001b[49m\u001b[43m)\u001b[49m\n\u001b[32m    786\u001b[39m     \u001b[38;5;66;03m# Update learning rate\u001b[39;00m\n\u001b[32m    787\u001b[39m     lr_scheduler.step()\n",
      "\u001b[36mFile \u001b[39m\u001b[32m/opt/miniconda3/envs/geo_ai/lib/python3.12/site-packages/geoai/train.py:402\u001b[39m, in \u001b[36mtrain_one_epoch\u001b[39m\u001b[34m(model, optimizer, data_loader, device, epoch, print_freq, verbose)\u001b[39m\n\u001b[32m    400\u001b[39m \u001b[38;5;66;03m# Backward pass\u001b[39;00m\n\u001b[32m    401\u001b[39m optimizer.zero_grad()\n\u001b[32m--> \u001b[39m\u001b[32m402\u001b[39m \u001b[43mlosses\u001b[49m\u001b[43m.\u001b[49m\u001b[43mbackward\u001b[49m\u001b[43m(\u001b[49m\u001b[43m)\u001b[49m\n\u001b[32m    403\u001b[39m optimizer.step()\n\u001b[32m    405\u001b[39m \u001b[38;5;66;03m# Track loss\u001b[39;00m\n",
      "\u001b[36mFile \u001b[39m\u001b[32m/opt/miniconda3/envs/geo_ai/lib/python3.12/site-packages/torch/_tensor.py:648\u001b[39m, in \u001b[36mTensor.backward\u001b[39m\u001b[34m(self, gradient, retain_graph, create_graph, inputs)\u001b[39m\n\u001b[32m    638\u001b[39m \u001b[38;5;28;01mif\u001b[39;00m has_torch_function_unary(\u001b[38;5;28mself\u001b[39m):\n\u001b[32m    639\u001b[39m     \u001b[38;5;28;01mreturn\u001b[39;00m handle_torch_function(\n\u001b[32m    640\u001b[39m         Tensor.backward,\n\u001b[32m    641\u001b[39m         (\u001b[38;5;28mself\u001b[39m,),\n\u001b[32m   (...)\u001b[39m\u001b[32m    646\u001b[39m         inputs=inputs,\n\u001b[32m    647\u001b[39m     )\n\u001b[32m--> \u001b[39m\u001b[32m648\u001b[39m \u001b[43mtorch\u001b[49m\u001b[43m.\u001b[49m\u001b[43mautograd\u001b[49m\u001b[43m.\u001b[49m\u001b[43mbackward\u001b[49m\u001b[43m(\u001b[49m\n\u001b[32m    649\u001b[39m \u001b[43m    \u001b[49m\u001b[38;5;28;43mself\u001b[39;49m\u001b[43m,\u001b[49m\u001b[43m \u001b[49m\u001b[43mgradient\u001b[49m\u001b[43m,\u001b[49m\u001b[43m \u001b[49m\u001b[43mretain_graph\u001b[49m\u001b[43m,\u001b[49m\u001b[43m \u001b[49m\u001b[43mcreate_graph\u001b[49m\u001b[43m,\u001b[49m\u001b[43m \u001b[49m\u001b[43minputs\u001b[49m\u001b[43m=\u001b[49m\u001b[43minputs\u001b[49m\n\u001b[32m    650\u001b[39m \u001b[43m\u001b[49m\u001b[43m)\u001b[49m\n",
      "\u001b[36mFile \u001b[39m\u001b[32m/opt/miniconda3/envs/geo_ai/lib/python3.12/site-packages/torch/autograd/__init__.py:353\u001b[39m, in \u001b[36mbackward\u001b[39m\u001b[34m(tensors, grad_tensors, retain_graph, create_graph, grad_variables, inputs)\u001b[39m\n\u001b[32m    348\u001b[39m     retain_graph = create_graph\n\u001b[32m    350\u001b[39m \u001b[38;5;66;03m# The reason we repeat the same comment below is that\u001b[39;00m\n\u001b[32m    351\u001b[39m \u001b[38;5;66;03m# some Python versions print out the first line of a multi-line function\u001b[39;00m\n\u001b[32m    352\u001b[39m \u001b[38;5;66;03m# calls in the traceback and some print out the last line\u001b[39;00m\n\u001b[32m--> \u001b[39m\u001b[32m353\u001b[39m \u001b[43m_engine_run_backward\u001b[49m\u001b[43m(\u001b[49m\n\u001b[32m    354\u001b[39m \u001b[43m    \u001b[49m\u001b[43mtensors\u001b[49m\u001b[43m,\u001b[49m\n\u001b[32m    355\u001b[39m \u001b[43m    \u001b[49m\u001b[43mgrad_tensors_\u001b[49m\u001b[43m,\u001b[49m\n\u001b[32m    356\u001b[39m \u001b[43m    \u001b[49m\u001b[43mretain_graph\u001b[49m\u001b[43m,\u001b[49m\n\u001b[32m    357\u001b[39m \u001b[43m    \u001b[49m\u001b[43mcreate_graph\u001b[49m\u001b[43m,\u001b[49m\n\u001b[32m    358\u001b[39m \u001b[43m    \u001b[49m\u001b[43minputs\u001b[49m\u001b[43m,\u001b[49m\n\u001b[32m    359\u001b[39m \u001b[43m    \u001b[49m\u001b[43mallow_unreachable\u001b[49m\u001b[43m=\u001b[49m\u001b[38;5;28;43;01mTrue\u001b[39;49;00m\u001b[43m,\u001b[49m\n\u001b[32m    360\u001b[39m \u001b[43m    \u001b[49m\u001b[43maccumulate_grad\u001b[49m\u001b[43m=\u001b[49m\u001b[38;5;28;43;01mTrue\u001b[39;49;00m\u001b[43m,\u001b[49m\n\u001b[32m    361\u001b[39m \u001b[43m\u001b[49m\u001b[43m)\u001b[49m\n",
      "\u001b[36mFile \u001b[39m\u001b[32m/opt/miniconda3/envs/geo_ai/lib/python3.12/site-packages/torch/autograd/graph.py:824\u001b[39m, in \u001b[36m_engine_run_backward\u001b[39m\u001b[34m(t_outputs, *args, **kwargs)\u001b[39m\n\u001b[32m    822\u001b[39m     unregister_hooks = _register_logging_hooks_on_whole_graph(t_outputs)\n\u001b[32m    823\u001b[39m \u001b[38;5;28;01mtry\u001b[39;00m:\n\u001b[32m--> \u001b[39m\u001b[32m824\u001b[39m     \u001b[38;5;28;01mreturn\u001b[39;00m \u001b[43mVariable\u001b[49m\u001b[43m.\u001b[49m\u001b[43m_execution_engine\u001b[49m\u001b[43m.\u001b[49m\u001b[43mrun_backward\u001b[49m\u001b[43m(\u001b[49m\u001b[43m  \u001b[49m\u001b[38;5;66;43;03m# Calls into the C++ engine to run the backward pass\u001b[39;49;00m\n\u001b[32m    825\u001b[39m \u001b[43m        \u001b[49m\u001b[43mt_outputs\u001b[49m\u001b[43m,\u001b[49m\u001b[43m \u001b[49m\u001b[43m*\u001b[49m\u001b[43margs\u001b[49m\u001b[43m,\u001b[49m\u001b[43m \u001b[49m\u001b[43m*\u001b[49m\u001b[43m*\u001b[49m\u001b[43mkwargs\u001b[49m\n\u001b[32m    826\u001b[39m \u001b[43m    \u001b[49m\u001b[43m)\u001b[49m  \u001b[38;5;66;03m# Calls into the C++ engine to run the backward pass\u001b[39;00m\n\u001b[32m    827\u001b[39m \u001b[38;5;28;01mfinally\u001b[39;00m:\n\u001b[32m    828\u001b[39m     \u001b[38;5;28;01mif\u001b[39;00m attach_logging_hooks:\n",
      "\u001b[31mKeyboardInterrupt\u001b[39m: "
     ]
    }
   ],
   "source": [
    "geoai.train_MaskRCNN_model(\n",
    "    images_dir=f\"{out_folder}/images\",\n",
    "    labels_dir=f\"{out_folder}/labels\",\n",
    "    output_dir=f\"{out_folder}/models\",\n",
    "    num_channels=4,\n",
    "    pretrained=True,\n",
    "    batch_size=4,\n",
    "    num_epochs=5,\n",
    "    learning_rate=0.005,\n",
    "    val_split=0.2,\n",
    ")"
   ]
  },
  {
   "cell_type": "code",
   "execution_count": null,
   "id": "110ff73f-8f34-4155-9393-47ba6de3e258",
   "metadata": {},
   "outputs": [],
   "source": []
  }
 ],
 "metadata": {
  "kernelspec": {
   "display_name": "Python 3 (ipykernel)",
   "language": "python",
   "name": "python3"
  },
  "language_info": {
   "codemirror_mode": {
    "name": "ipython",
    "version": 3
   },
   "file_extension": ".py",
   "mimetype": "text/x-python",
   "name": "python",
   "nbconvert_exporter": "python",
   "pygments_lexer": "ipython3",
   "version": "3.12.11"
  }
 },
 "nbformat": 4,
 "nbformat_minor": 5
}
