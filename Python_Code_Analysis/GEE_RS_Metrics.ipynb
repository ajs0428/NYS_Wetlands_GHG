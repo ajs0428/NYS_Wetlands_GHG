{
 "cells": [
  {
   "cell_type": "code",
   "execution_count": 6,
   "id": "3a1a3b90-2174-4a83-8d32-e13df2e2f5b8",
   "metadata": {
    "scrolled": true
   },
   "outputs": [
    {
     "data": {
      "text/html": [
       "\n",
       "            <style>\n",
       "                .geemap-dark {\n",
       "                    --jp-widgets-color: white;\n",
       "                    --jp-widgets-label-color: white;\n",
       "                    --jp-ui-font-color1: white;\n",
       "                    --jp-layout-color2: #454545;\n",
       "                    background-color: #383838;\n",
       "                }\n",
       "\n",
       "                .geemap-dark .jupyter-button {\n",
       "                    --jp-layout-color3: #383838;\n",
       "                }\n",
       "\n",
       "                .geemap-colab {\n",
       "                    background-color: var(--colab-primary-surface-color, white);\n",
       "                }\n",
       "\n",
       "                .geemap-colab .jupyter-button {\n",
       "                    --jp-layout-color3: var(--colab-primary-surface-color, white);\n",
       "                }\n",
       "            </style>\n",
       "            "
      ],
      "text/plain": [
       "<IPython.core.display.HTML object>"
      ]
     },
     "metadata": {},
     "output_type": "display_data"
    },
    {
     "data": {
      "text/plain": [
       "<google.oauth2.service_account.Credentials at 0x15d9c5d30>"
      ]
     },
     "execution_count": 6,
     "metadata": {},
     "output_type": "execute_result"
    }
   ],
   "source": [
    "import ee\n",
    "import geemap\n",
    "import geopandas as gpd\n",
    "\n",
    "ee.Authenticate()\n",
    "\n",
    "ee.Initialize()\n",
    "ee.ServiceAccountCredentials(email = \"ajs-gee-access@earthengineajs.iam.gserviceaccount.com\", \n",
    "                              key_file=\"/Users/Anthony/Documents/GoogleCloud/API_Key/earthengineajs-ajs_gee_access.json\")"
   ]
  },
  {
   "cell_type": "code",
   "execution_count": 26,
   "id": "27b3f1e6-3513-40e6-ab81-7c72fb1d6a25",
   "metadata": {},
   "outputs": [
    {
     "data": {
      "text/html": [
       "\n",
       "            <style>\n",
       "                .geemap-dark {\n",
       "                    --jp-widgets-color: white;\n",
       "                    --jp-widgets-label-color: white;\n",
       "                    --jp-ui-font-color1: white;\n",
       "                    --jp-layout-color2: #454545;\n",
       "                    background-color: #383838;\n",
       "                }\n",
       "\n",
       "                .geemap-dark .jupyter-button {\n",
       "                    --jp-layout-color3: #383838;\n",
       "                }\n",
       "\n",
       "                .geemap-colab {\n",
       "                    background-color: var(--colab-primary-surface-color, white);\n",
       "                }\n",
       "\n",
       "                .geemap-colab .jupyter-button {\n",
       "                    --jp-layout-color3: var(--colab-primary-surface-color, white);\n",
       "                }\n",
       "            </style>\n",
       "            "
      ],
      "text/plain": [
       "<IPython.core.display.HTML object>"
      ]
     },
     "metadata": {},
     "output_type": "display_data"
    }
   ],
   "source": [
    "%config IPCompleter.use_jedi = True"
   ]
  },
  {
   "cell_type": "code",
   "execution_count": 7,
   "id": "a4211394-9968-4046-893b-ae8ba3586685",
   "metadata": {},
   "outputs": [
    {
     "data": {
      "text/html": [
       "\n",
       "            <style>\n",
       "                .geemap-dark {\n",
       "                    --jp-widgets-color: white;\n",
       "                    --jp-widgets-label-color: white;\n",
       "                    --jp-ui-font-color1: white;\n",
       "                    --jp-layout-color2: #454545;\n",
       "                    background-color: #383838;\n",
       "                }\n",
       "\n",
       "                .geemap-dark .jupyter-button {\n",
       "                    --jp-layout-color3: #383838;\n",
       "                }\n",
       "\n",
       "                .geemap-colab {\n",
       "                    background-color: var(--colab-primary-surface-color, white);\n",
       "                }\n",
       "\n",
       "                .geemap-colab .jupyter-button {\n",
       "                    --jp-layout-color3: var(--colab-primary-surface-color, white);\n",
       "                }\n",
       "            </style>\n",
       "            "
      ],
      "text/plain": [
       "<IPython.core.display.HTML object>"
      ]
     },
     "metadata": {},
     "output_type": "display_data"
    },
    {
     "name": "stdout",
     "output_type": "stream",
     "text": [
      "Available buckets: ['ajs_gee_data']\n"
     ]
    }
   ],
   "source": [
    "import os\n",
    "from google.cloud import storage\n",
    "\n",
    "# Set up authentication for Google Cloud\n",
    "os.environ['GOOGLE_APPLICATION_CREDENTIALS'] = \"/Users/Anthony/Documents/GoogleCloud/API_Key/earthengineajs-ajs_gee_access.json\"\n",
    "\n",
    "# Test connection\n",
    "client = storage.Client()\n",
    "buckets = list(client.list_buckets())\n",
    "print(f\"Available buckets: {[bucket.name for bucket in buckets]}\")"
   ]
  },
  {
   "cell_type": "code",
   "execution_count": 8,
   "id": "2683b431-22f1-45b0-b059-261c2083d240",
   "metadata": {},
   "outputs": [
    {
     "data": {
      "text/html": [
       "\n",
       "            <style>\n",
       "                .geemap-dark {\n",
       "                    --jp-widgets-color: white;\n",
       "                    --jp-widgets-label-color: white;\n",
       "                    --jp-ui-font-color1: white;\n",
       "                    --jp-layout-color2: #454545;\n",
       "                    background-color: #383838;\n",
       "                }\n",
       "\n",
       "                .geemap-dark .jupyter-button {\n",
       "                    --jp-layout-color3: #383838;\n",
       "                }\n",
       "\n",
       "                .geemap-colab {\n",
       "                    background-color: var(--colab-primary-surface-color, white);\n",
       "                }\n",
       "\n",
       "                .geemap-colab .jupyter-button {\n",
       "                    --jp-layout-color3: var(--colab-primary-surface-color, white);\n",
       "                }\n",
       "            </style>\n",
       "            "
      ],
      "text/plain": [
       "<IPython.core.display.HTML object>"
      ]
     },
     "metadata": {},
     "output_type": "display_data"
    },
    {
     "data": {
      "text/plain": [
       "<Bucket: ajs_gee_data>"
      ]
     },
     "execution_count": 8,
     "metadata": {},
     "output_type": "execute_result"
    }
   ],
   "source": [
    "storage_client = storage.Client()\n",
    "bucket_name = \"ajs_gee_data\"\n",
    "bucket = storage_client.bucket(bucket_name)\n",
    "bucket"
   ]
  },
  {
   "cell_type": "markdown",
   "id": "ece87ee5-f750-43a8-8bd1-bf79766cefb3",
   "metadata": {},
   "source": [
    "Geometry of interest"
   ]
  },
  {
   "cell_type": "code",
   "execution_count": 27,
   "id": "7a5b5bad-04df-43d1-a97a-967391d521fd",
   "metadata": {
    "scrolled": true
   },
   "outputs": [
    {
     "data": {
      "text/html": [
       "\n",
       "            <style>\n",
       "                .geemap-dark {\n",
       "                    --jp-widgets-color: white;\n",
       "                    --jp-widgets-label-color: white;\n",
       "                    --jp-ui-font-color1: white;\n",
       "                    --jp-layout-color2: #454545;\n",
       "                    background-color: #383838;\n",
       "                }\n",
       "\n",
       "                .geemap-dark .jupyter-button {\n",
       "                    --jp-layout-color3: #383838;\n",
       "                }\n",
       "\n",
       "                .geemap-colab {\n",
       "                    background-color: var(--colab-primary-surface-color, white);\n",
       "                }\n",
       "\n",
       "                .geemap-colab .jupyter-button {\n",
       "                    --jp-layout-color3: var(--colab-primary-surface-color, white);\n",
       "                }\n",
       "            </style>\n",
       "            "
      ],
      "text/plain": [
       "<IPython.core.display.HTML object>"
      ]
     },
     "metadata": {},
     "output_type": "display_data"
    }
   ],
   "source": [
    "\n",
    "gdf = gpd.read_file(\"/Users/Anthony/Data and Analysis Local/NYS_Wetlands_GHG/Data/NWI/NY_6350.gpkg\")\n",
    "gdf_huc = gpd.read_file(\"/Users/Anthony/Data and Analysis Local/NYS_Wetlands_GHG/Data/NY_HUCS/SaranacRiver_043001060504.gpkg\")\n",
    "\n",
    "gdf = gdf.to_crs(4326)\n",
    "gdf_huc = gdf_huc.to_crs(4326)\n",
    "\n",
    "gjson = gdf.__geo_interface__\n",
    "gdf.crs\n",
    "gjson_huc = gdf_huc.__geo_interface__"
   ]
  },
  {
   "cell_type": "code",
   "execution_count": 28,
   "id": "51613365-a126-4585-945d-d755f060c358",
   "metadata": {},
   "outputs": [
    {
     "data": {
      "text/html": [
       "\n",
       "            <style>\n",
       "                .geemap-dark {\n",
       "                    --jp-widgets-color: white;\n",
       "                    --jp-widgets-label-color: white;\n",
       "                    --jp-ui-font-color1: white;\n",
       "                    --jp-layout-color2: #454545;\n",
       "                    background-color: #383838;\n",
       "                }\n",
       "\n",
       "                .geemap-dark .jupyter-button {\n",
       "                    --jp-layout-color3: #383838;\n",
       "                }\n",
       "\n",
       "                .geemap-colab {\n",
       "                    background-color: var(--colab-primary-surface-color, white);\n",
       "                }\n",
       "\n",
       "                .geemap-colab .jupyter-button {\n",
       "                    --jp-layout-color3: var(--colab-primary-surface-color, white);\n",
       "                }\n",
       "            </style>\n",
       "            "
      ],
      "text/plain": [
       "<IPython.core.display.HTML object>"
      ]
     },
     "metadata": {},
     "output_type": "display_data"
    }
   ],
   "source": [
    "gfc = ee.FeatureCollection(gjson)\n",
    "gfc_huc = ee.FeatureCollection(gjson_huc)"
   ]
  },
  {
   "cell_type": "code",
   "execution_count": 37,
   "id": "09825f47-be7e-463f-85ae-c953fcfe1159",
   "metadata": {},
   "outputs": [
    {
     "data": {
      "text/html": [
       "\n",
       "            <style>\n",
       "                .geemap-dark {\n",
       "                    --jp-widgets-color: white;\n",
       "                    --jp-widgets-label-color: white;\n",
       "                    --jp-ui-font-color1: white;\n",
       "                    --jp-layout-color2: #454545;\n",
       "                    background-color: #383838;\n",
       "                }\n",
       "\n",
       "                .geemap-dark .jupyter-button {\n",
       "                    --jp-layout-color3: #383838;\n",
       "                }\n",
       "\n",
       "                .geemap-colab {\n",
       "                    background-color: var(--colab-primary-surface-color, white);\n",
       "                }\n",
       "\n",
       "                .geemap-colab .jupyter-button {\n",
       "                    --jp-layout-color3: var(--colab-primary-surface-color, white);\n",
       "                }\n",
       "            </style>\n",
       "            "
      ],
      "text/plain": [
       "<IPython.core.display.HTML object>"
      ]
     },
     "metadata": {},
     "output_type": "display_data"
    },
    {
     "data": {
      "application/vnd.jupyter.widget-view+json": {
       "model_id": "a6503f6b80614f50bb2c0c741b85621c",
       "version_major": 2,
       "version_minor": 0
      },
      "text/plain": [
       "Map(center=[43.23, -75.89], controls=(WidgetControl(options=['position', 'transparent_bg'], widget=SearchDataG…"
      ]
     },
     "execution_count": 37,
     "metadata": {},
     "output_type": "execute_result"
    }
   ],
   "source": [
    "Map = geemap.Map(center=[43.23, -75.89], zoom=6)\n",
    "Map.add_basemap(\"HYBRID\")\n",
    "Map.addLayer(gfc, {}, \"NY State\")\n",
    "Map.addLayer(gfc_huc, {}, \"SaranacRiverHUC\")\n",
    "Map"
   ]
  },
  {
   "cell_type": "code",
   "execution_count": 30,
   "id": "4dc0b7a0-c7d8-45a7-9037-e734e21a6200",
   "metadata": {
    "scrolled": true
   },
   "outputs": [
    {
     "data": {
      "text/html": [
       "\n",
       "            <style>\n",
       "                .geemap-dark {\n",
       "                    --jp-widgets-color: white;\n",
       "                    --jp-widgets-label-color: white;\n",
       "                    --jp-ui-font-color1: white;\n",
       "                    --jp-layout-color2: #454545;\n",
       "                    background-color: #383838;\n",
       "                }\n",
       "\n",
       "                .geemap-dark .jupyter-button {\n",
       "                    --jp-layout-color3: #383838;\n",
       "                }\n",
       "\n",
       "                .geemap-colab {\n",
       "                    background-color: var(--colab-primary-surface-color, white);\n",
       "                }\n",
       "\n",
       "                .geemap-colab .jupyter-button {\n",
       "                    --jp-layout-color3: var(--colab-primary-surface-color, white);\n",
       "                }\n",
       "            </style>\n",
       "            "
      ],
      "text/plain": [
       "<IPython.core.display.HTML object>"
      ]
     },
     "metadata": {},
     "output_type": "display_data"
    }
   ],
   "source": [
    "\n",
    "# Define Sentinel ImageCollection\n",
    "s2 = ee.ImageCollection(\"COPERNICUS/S2_SR_HARMONIZED\")\n",
    "s1 = ee.ImageCollection(\"COPERNICUS/S1_GRD\")\n",
    "\n",
    "# Define time period\n",
    "start_date = '2022-01-01'\n",
    "end_date = '2024-12-31'\n",
    "\n",
    "# Define start and end DOY\n",
    "start_doy = 182\n",
    "end_doy = 244"
   ]
  },
  {
   "cell_type": "code",
   "execution_count": 31,
   "id": "cf13d7b7-44b4-40a4-91c1-f81c19288e81",
   "metadata": {},
   "outputs": [
    {
     "data": {
      "text/html": [
       "\n",
       "            <style>\n",
       "                .geemap-dark {\n",
       "                    --jp-widgets-color: white;\n",
       "                    --jp-widgets-label-color: white;\n",
       "                    --jp-ui-font-color1: white;\n",
       "                    --jp-layout-color2: #454545;\n",
       "                    background-color: #383838;\n",
       "                }\n",
       "\n",
       "                .geemap-dark .jupyter-button {\n",
       "                    --jp-layout-color3: #383838;\n",
       "                }\n",
       "\n",
       "                .geemap-colab {\n",
       "                    background-color: var(--colab-primary-surface-color, white);\n",
       "                }\n",
       "\n",
       "                .geemap-colab .jupyter-button {\n",
       "                    --jp-layout-color3: var(--colab-primary-surface-color, white);\n",
       "                }\n",
       "            </style>\n",
       "            "
      ],
      "text/plain": [
       "<IPython.core.display.HTML object>"
      ]
     },
     "metadata": {},
     "output_type": "display_data"
    }
   ],
   "source": [
    "def calculate_SAR_indices(image):\n",
    "    VV = image.select(\"VV\")\n",
    "    VH = image.select(\"VH\")\n",
    "\n",
    "    # DpRVIVV = image.expression(\n",
    "    #     \"(4.0 * VH) / (VV + VH)\",\n",
    "    #     {\"VH\": VH, \"VV\": VV}\n",
    "    # ).rename(\"DpRVIVV\")\n",
    "    DpRVIVV = VV.add(VH).divide(VH.multiply(4.0)).rename(\"DpRVIVV\")\n",
    "    \n",
    "    image.addBands(DpRVIVV)\n",
    "\n",
    "    return image\n",
    "\n",
    "def calculate_indices(image):\n",
    "    # Extract bands\n",
    "    NIR = image.select('B8')\n",
    "    RED = image.select('B4')\n",
    "    REDG2 = image.select(\"B6\")\n",
    "    GREEN = image.select('B3')\n",
    "    BLUE = image.select('B2')\n",
    "    SWIR1 = image.select('B11')\n",
    "\n",
    "    # Calculate spectral indices\n",
    "    NDVI = (NIR.subtract(RED)).divide(NIR.add(RED)).rename('NDVI')\n",
    "    MNDWI = (GREEN.subtract(SWIR1)).divide(GREEN.add(SWIR1)).rename('MNDWI')\n",
    "    PSRI = (RED.subtract(BLUE)).divide(REDG2).rename(\"PSRI\") # Plant senescence \n",
    "    NDYI = (GREEN.subtract(BLUE)).divide(GREEN.add(BLUE)).rename('NDYI') #Yellow\n",
    "    \n",
    "    # Calculate EVI (Sentinel2)\n",
    "    EVI = image.expression(\n",
    "        '2.5 * ((NIR - RED) / (NIR + 6 * RED - 7.5 * BLUE + 1))',\n",
    "        {'NIR': NIR, 'RED': RED, 'BLUE': BLUE}\n",
    "    ).rename('EVI')\n",
    "\n",
    "\n",
    "    # Add bands to the image\n",
    "    image = image.addBands([NDVI, MNDWI, EVI, NDYI, PSRI]).float()\n",
    "\n",
    "    return image\n"
   ]
  },
  {
   "cell_type": "code",
   "execution_count": 32,
   "id": "8c3bd459-69ed-47d3-9028-3a828be71bc9",
   "metadata": {},
   "outputs": [
    {
     "data": {
      "text/html": [
       "\n",
       "            <style>\n",
       "                .geemap-dark {\n",
       "                    --jp-widgets-color: white;\n",
       "                    --jp-widgets-label-color: white;\n",
       "                    --jp-ui-font-color1: white;\n",
       "                    --jp-layout-color2: #454545;\n",
       "                    background-color: #383838;\n",
       "                }\n",
       "\n",
       "                .geemap-dark .jupyter-button {\n",
       "                    --jp-layout-color3: #383838;\n",
       "                }\n",
       "\n",
       "                .geemap-colab {\n",
       "                    background-color: var(--colab-primary-surface-color, white);\n",
       "                }\n",
       "\n",
       "                .geemap-colab .jupyter-button {\n",
       "                    --jp-layout-color3: var(--colab-primary-surface-color, white);\n",
       "                }\n",
       "            </style>\n",
       "            "
      ],
      "text/plain": [
       "<IPython.core.display.HTML object>"
      ]
     },
     "metadata": {},
     "output_type": "display_data"
    }
   ],
   "source": [
    "def mask_s2_clouds(image):\n",
    "  \"\"\"Masks clouds in a Sentinel-2 image using the QA band.\n",
    "\n",
    "  Args:\n",
    "      image (ee.Image): A Sentinel-2 image.\n",
    "\n",
    "  Returns:\n",
    "      ee.Image: A cloud-masked Sentinel-2 image.\n",
    "  \"\"\"\n",
    "  qa = image.select('QA60')\n",
    "\n",
    "  # Bits 10 and 11 are clouds and cirrus, respectively.\n",
    "  cloud_bit_mask = 1 << 10\n",
    "  cirrus_bit_mask = 1 << 11\n",
    "\n",
    "  # Both flags should be set to zero, indicating clear conditions.\n",
    "  mask = (\n",
    "      qa.bitwiseAnd(cloud_bit_mask)\n",
    "      .eq(0)\n",
    "      .And(qa.bitwiseAnd(cirrus_bit_mask).eq(0))\n",
    "  )\n",
    "\n",
    "  return image.updateMask(mask).divide(10000)\n",
    "\n",
    "\n",
    "\n"
   ]
  },
  {
   "cell_type": "code",
   "execution_count": 33,
   "id": "db2067da-e90d-4d57-9bfa-8b6f308d2cd6",
   "metadata": {
    "scrolled": true
   },
   "outputs": [
    {
     "data": {
      "text/html": [
       "\n",
       "            <style>\n",
       "                .geemap-dark {\n",
       "                    --jp-widgets-color: white;\n",
       "                    --jp-widgets-label-color: white;\n",
       "                    --jp-ui-font-color1: white;\n",
       "                    --jp-layout-color2: #454545;\n",
       "                    background-color: #383838;\n",
       "                }\n",
       "\n",
       "                .geemap-dark .jupyter-button {\n",
       "                    --jp-layout-color3: #383838;\n",
       "                }\n",
       "\n",
       "                .geemap-colab {\n",
       "                    background-color: var(--colab-primary-surface-color, white);\n",
       "                }\n",
       "\n",
       "                .geemap-colab .jupyter-button {\n",
       "                    --jp-layout-color3: var(--colab-primary-surface-color, white);\n",
       "                }\n",
       "            </style>\n",
       "            "
      ],
      "text/plain": [
       "<IPython.core.display.HTML object>"
      ]
     },
     "metadata": {},
     "output_type": "display_data"
    },
    {
     "name": "stdout",
     "output_type": "stream",
     "text": [
      "['NDVI_median', 'MNDWI_median', 'EVI_median', 'NDYI_median', 'PSRI_median']\n"
     ]
    }
   ],
   "source": [
    "s2_filtered = (\n",
    "    ee.ImageCollection('COPERNICUS/S2_SR_HARMONIZED')\n",
    "    .filterBounds(gfc_huc)\n",
    "    .filterDate(start_date, end_date)\n",
    "    .filter(ee.Filter.dayOfYear(start_doy, end_doy))\n",
    "    # Pre-filter to get less cloudy granules.\n",
    "    .filter(ee.Filter.lt('CLOUDY_PIXEL_PERCENTAGE', 20))\n",
    "    .map(mask_s2_clouds)\n",
    "    .map(calculate_indices)\n",
    "    .reduce(ee.Reducer.median())\n",
    "    .select('NDVI_median', 'MNDWI_median',\n",
    "            'EVI_median', 'NDYI_median', 'PSRI_median')\n",
    "    .clip(gfc_huc)\n",
    ")\n",
    "\n",
    "# s1_filtered = (\n",
    "#     ee.ImageCollection(\"COPERNICUS/S1_GRD\")\n",
    "#     .filter(ee.Filter.listContains('transmitterReceiverPolarisation',  ['VV', 'VH']))\n",
    "#     .filter(ee.Filter.eq('instrumentMode', 'IW'))\n",
    "#     .filter(ee.Filter.eq('orbitProperties_pass', 'ASCENDING'))\n",
    "#     .filterBounds(wa_hucs)\n",
    "#     #.filterDate(start_date, end_date)\n",
    "#     #.filter(ee.Filter.dayOfYear(start_doy, end_doy))\n",
    "#     .map(calculate_SAR_indices)\n",
    "#     .reduce(ee.Reducer.median())\n",
    "#     #.clip(wa_hucs)\n",
    "# )\n",
    "print(s2_filtered.bandNames().getInfo())"
   ]
  },
  {
   "cell_type": "code",
   "execution_count": 38,
   "id": "0f17faa8-2b32-4fdf-b7e1-9d27cff5fbd9",
   "metadata": {
    "scrolled": true
   },
   "outputs": [
    {
     "data": {
      "text/html": [
       "\n",
       "            <style>\n",
       "                .geemap-dark {\n",
       "                    --jp-widgets-color: white;\n",
       "                    --jp-widgets-label-color: white;\n",
       "                    --jp-ui-font-color1: white;\n",
       "                    --jp-layout-color2: #454545;\n",
       "                    background-color: #383838;\n",
       "                }\n",
       "\n",
       "                .geemap-dark .jupyter-button {\n",
       "                    --jp-layout-color3: #383838;\n",
       "                }\n",
       "\n",
       "                .geemap-colab {\n",
       "                    background-color: var(--colab-primary-surface-color, white);\n",
       "                }\n",
       "\n",
       "                .geemap-colab .jupyter-button {\n",
       "                    --jp-layout-color3: var(--colab-primary-surface-color, white);\n",
       "                }\n",
       "            </style>\n",
       "            "
      ],
      "text/plain": [
       "<IPython.core.display.HTML object>"
      ]
     },
     "metadata": {},
     "output_type": "display_data"
    }
   ],
   "source": [
    "#Map = geemap.Map(center=[48.5433, -118.8363], zoom=8)\n",
    "\n",
    "indices_to_visualize = ['NDVI_median', 'MNDWI_median', 'EVI_median', 'NDYI_median']\n",
    "    \n",
    "for index_name in indices_to_visualize:\n",
    "    # Select index\n",
    "    index_image = s2_filtered.select(index_name)\n",
    "        \n",
    "    # Add index layer to the map\n",
    "    Map.addLayer(index_image, {}, f'{index_name}')\n",
    "\n",
    "#Map.addLayer(s1_filtered.select(\"DpRVIVV_median\"), {}, \"DpRVIVV\")"
   ]
  },
  {
   "cell_type": "code",
   "execution_count": 48,
   "id": "3973fae8-f038-4a22-bef5-b9eb97c6acff",
   "metadata": {},
   "outputs": [
    {
     "data": {
      "text/html": [
       "\n",
       "            <style>\n",
       "                .geemap-dark {\n",
       "                    --jp-widgets-color: white;\n",
       "                    --jp-widgets-label-color: white;\n",
       "                    --jp-ui-font-color1: white;\n",
       "                    --jp-layout-color2: #454545;\n",
       "                    background-color: #383838;\n",
       "                }\n",
       "\n",
       "                .geemap-dark .jupyter-button {\n",
       "                    --jp-layout-color3: #383838;\n",
       "                }\n",
       "\n",
       "                .geemap-colab {\n",
       "                    background-color: var(--colab-primary-surface-color, white);\n",
       "                }\n",
       "\n",
       "                .geemap-colab .jupyter-button {\n",
       "                    --jp-layout-color3: var(--colab-primary-surface-color, white);\n",
       "                }\n",
       "            </style>\n",
       "            "
      ],
      "text/plain": [
       "<IPython.core.display.HTML object>"
      ]
     },
     "metadata": {},
     "output_type": "display_data"
    }
   ],
   "source": [
    "projection = s2_filtered.select('NDVI_median').projection().getInfo()\n",
    "\n",
    "task = ee.batch.Export.image.toAsset(\n",
    "    image=s2_filtered, \n",
    "    description='NYS_S2_Indices',\n",
    "    assetId= \"projects/earthengineajs/assets/Test_HUC_Indices\",\n",
    "    #bucket=bucket_name,\n",
    "    #fileNamePrefix='Test_HUC_Indices_',\n",
    "    crs=\"EPSG:3857\",\n",
    "    #crsTransform=projection['transform'],\n",
    "    region=gfc.geometry(),\n",
    "    maxPixels=1e10,\n",
    "    scale=10,\n",
    "    #formatOptions={'cloudOptimized': False},\n",
    "    #fileFormat=\"GeoTIFF\"\n",
    ")\n",
    "task.start()"
   ]
  },
  {
   "cell_type": "code",
   "execution_count": 49,
   "id": "d374dc17-4316-4ed5-a72a-a816275e2342",
   "metadata": {},
   "outputs": [
    {
     "data": {
      "text/html": [
       "\n",
       "            <style>\n",
       "                .geemap-dark {\n",
       "                    --jp-widgets-color: white;\n",
       "                    --jp-widgets-label-color: white;\n",
       "                    --jp-ui-font-color1: white;\n",
       "                    --jp-layout-color2: #454545;\n",
       "                    background-color: #383838;\n",
       "                }\n",
       "\n",
       "                .geemap-dark .jupyter-button {\n",
       "                    --jp-layout-color3: #383838;\n",
       "                }\n",
       "\n",
       "                .geemap-colab {\n",
       "                    background-color: var(--colab-primary-surface-color, white);\n",
       "                }\n",
       "\n",
       "                .geemap-colab .jupyter-button {\n",
       "                    --jp-layout-color3: var(--colab-primary-surface-color, white);\n",
       "                }\n",
       "            </style>\n",
       "            "
      ],
      "text/plain": [
       "<IPython.core.display.HTML object>"
      ]
     },
     "metadata": {},
     "output_type": "display_data"
    },
    {
     "data": {
      "text/plain": [
       "{'state': 'READY',\n",
       " 'description': 'NYS_S2_Indices',\n",
       " 'priority': 100,\n",
       " 'creation_timestamp_ms': 1752787744048,\n",
       " 'update_timestamp_ms': 1752787744048,\n",
       " 'start_timestamp_ms': 0,\n",
       " 'task_type': 'EXPORT_IMAGE',\n",
       " 'id': 'SUPXL7PYIBCJ74MIGF5PE7HK',\n",
       " 'name': 'projects/484202851264/operations/SUPXL7PYIBCJ74MIGF5PE7HK'}"
      ]
     },
     "execution_count": 49,
     "metadata": {},
     "output_type": "execute_result"
    }
   ],
   "source": [
    "ee.batch.Task.status(task)"
   ]
  },
  {
   "cell_type": "code",
   "execution_count": 47,
   "id": "eb8e626a-78ee-42f3-9507-4c93a8d429a8",
   "metadata": {},
   "outputs": [
    {
     "data": {
      "text/html": [
       "\n",
       "            <style>\n",
       "                .geemap-dark {\n",
       "                    --jp-widgets-color: white;\n",
       "                    --jp-widgets-label-color: white;\n",
       "                    --jp-ui-font-color1: white;\n",
       "                    --jp-layout-color2: #454545;\n",
       "                    background-color: #383838;\n",
       "                }\n",
       "\n",
       "                .geemap-dark .jupyter-button {\n",
       "                    --jp-layout-color3: #383838;\n",
       "                }\n",
       "\n",
       "                .geemap-colab {\n",
       "                    background-color: var(--colab-primary-surface-color, white);\n",
       "                }\n",
       "\n",
       "                .geemap-colab .jupyter-button {\n",
       "                    --jp-layout-color3: var(--colab-primary-surface-color, white);\n",
       "                }\n",
       "            </style>\n",
       "            "
      ],
      "text/plain": [
       "<IPython.core.display.HTML object>"
      ]
     },
     "metadata": {},
     "output_type": "display_data"
    },
    {
     "data": {
      "text/plain": [
       "[<Task YGXORXKBUWNFPF6D53LJOGEQ EXPORT_IMAGE: NYS_S2_Indices (READY)>,\n",
       " <Task 6DUJUGAR5YEQQLVSWUXQBSXR EXPORT_IMAGE: NYS_S2_Indices (COMPLETED)>,\n",
       " <Task D3RUV2UED5JTESMRBD22ONRB EXPORT_IMAGE: NYS_S2_Indices (COMPLETED)>,\n",
       " <Task AMPKTOTYCRKKEKEEMCOVBKDX EXPORT_IMAGE: NYS_S2_Indices (COMPLETED)>,\n",
       " <Task KS5NA56H43LJBTOAFI3DL356 EXPORT_IMAGE: WA_10m_Indices (RUNNING)>,\n",
       " <Task 2BW5HK55LNWZQR7TX6N2PA7T EXPORT_IMAGE: WA_10m_Indices (FAILED)>,\n",
       " <Task OQ2UXXUPCA5ELJO4GS6RMSLA EXPORT_IMAGE: NYS_S2_Indices (COMPLETED)>]"
      ]
     },
     "execution_count": 47,
     "metadata": {},
     "output_type": "execute_result"
    }
   ],
   "source": [
    "ee.batch.Task.list()"
   ]
  },
  {
   "cell_type": "code",
   "execution_count": 32,
   "id": "78e7306e-e493-49ac-aaf6-88767f6fd24f",
   "metadata": {},
   "outputs": [
    {
     "data": {
      "text/html": [
       "\n",
       "            <style>\n",
       "                .geemap-dark {\n",
       "                    --jp-widgets-color: white;\n",
       "                    --jp-widgets-label-color: white;\n",
       "                    --jp-ui-font-color1: white;\n",
       "                    --jp-layout-color2: #454545;\n",
       "                    background-color: #383838;\n",
       "                }\n",
       "\n",
       "                .geemap-dark .jupyter-button {\n",
       "                    --jp-layout-color3: #383838;\n",
       "                }\n",
       "\n",
       "                .geemap-colab {\n",
       "                    background-color: var(--colab-primary-surface-color, white);\n",
       "                }\n",
       "\n",
       "                .geemap-colab .jupyter-button {\n",
       "                    --jp-layout-color3: var(--colab-primary-surface-color, white);\n",
       "                }\n",
       "            </style>\n",
       "            "
      ],
      "text/plain": [
       "<IPython.core.display.HTML object>"
      ]
     },
     "metadata": {},
     "output_type": "display_data"
    }
   ],
   "source": [
    "from google.cloud import storage\n",
    "\n",
    "\n",
    "def upload_blob(bucket_name, source_file_name, destination_blob_name):\n",
    "    \"\"\"Uploads a file to the bucket.\"\"\"\n",
    "    # The ID of your GCS bucket\n",
    "    # bucket_name = \"your-bucket-name\"\n",
    "    # The path to your file to upload\n",
    "    # source_file_name = \"local/path/to/file\"\n",
    "    # The ID of your GCS object\n",
    "    # destination_blob_name = \"storage-object-name\"\n",
    "\n",
    "    storage_client = storage.Client()\n",
    "    bucket = storage_client.bucket(bucket_name)\n",
    "    blob = bucket.blob(destination_blob_name)\n",
    "\n",
    "    # Optional: set a generation-match precondition to avoid potential race conditions\n",
    "    # and data corruptions. The request to upload is aborted if the object's\n",
    "    # generation number does not match your precondition. For a destination\n",
    "    # object that does not yet exist, set the if_generation_match precondition to 0.\n",
    "    # If the destination object already exists in your bucket, set instead a\n",
    "    # generation-match precondition using its generation number.\n",
    "    generation_match_precondition = 0\n",
    "\n",
    "    blob.upload_from_filename(source_file_name, if_generation_match=generation_match_precondition)\n",
    "\n",
    "    print(\n",
    "        f\"File {source_file_name} uploaded to {destination_blob_name}.\"\n",
    "    )\n",
    "\n"
   ]
  },
  {
   "cell_type": "code",
   "execution_count": 35,
   "id": "c3dcc901-b18d-44d8-8776-ea359ee40113",
   "metadata": {
    "scrolled": true
   },
   "outputs": [
    {
     "data": {
      "text/html": [
       "\n",
       "            <style>\n",
       "                .geemap-dark {\n",
       "                    --jp-widgets-color: white;\n",
       "                    --jp-widgets-label-color: white;\n",
       "                    --jp-ui-font-color1: white;\n",
       "                    --jp-layout-color2: #454545;\n",
       "                    background-color: #383838;\n",
       "                }\n",
       "\n",
       "                .geemap-dark .jupyter-button {\n",
       "                    --jp-layout-color3: #383838;\n",
       "                }\n",
       "\n",
       "                .geemap-colab {\n",
       "                    background-color: var(--colab-primary-surface-color, white);\n",
       "                }\n",
       "\n",
       "                .geemap-colab .jupyter-button {\n",
       "                    --jp-layout-color3: var(--colab-primary-surface-color, white);\n",
       "                }\n",
       "            </style>\n",
       "            "
      ],
      "text/plain": [
       "<IPython.core.display.HTML object>"
      ]
     },
     "metadata": {},
     "output_type": "display_data"
    },
    {
     "name": "stdout",
     "output_type": "stream",
     "text": [
      "File /Users/Anthony/Data and Analysis Local/NYS_Wetlands_GHG/Data/NWI/NY_6350.gpkg uploaded to test.gpkg.\n"
     ]
    }
   ],
   "source": [
    "upload_blob(bucket_name=bucket_name, source_file_name=\"/Users/Anthony/Data and Analysis Local/NYS_Wetlands_GHG/Data/NWI/NY_Wetlands_6350.gpkg\", destination_blob_name=\"NY_Wetlands_6350.gpkg\")"
   ]
  },
  {
   "cell_type": "markdown",
   "id": "c7f2ae09-5851-4e93-a745-82ef1f2a8dfb",
   "metadata": {},
   "source": [
    "## MODIS"
   ]
  },
  {
   "cell_type": "code",
   "execution_count": null,
   "id": "6e565521-d7fb-4cfa-8589-d1f1d43dde99",
   "metadata": {
    "scrolled": true
   },
   "outputs": [],
   "source": [
    "# MODIS\n",
    "\n",
    "modis_pp = (\n",
    "    ee.ImageCollection('MODIS/061/MOD17A3HGF')\n",
    "    #.filterDate(start_date, end_date)\n",
    "    #.filter(ee.Filter.dayOfYear(start_doy, end_doy))\n",
    "    # Pre-filter to get less cloudy granules.\n",
    "    #.filter(ee.Filter.lt('CLOUDY_PIXEL_PERCENTAGE', 20))\n",
    "    .median()\n",
    "    .clip(hlef_fc)\n",
    ")\n",
    "\n",
    "print(modis_pp)"
   ]
  },
  {
   "cell_type": "markdown",
   "id": "6c77dfd9-64b8-48db-ac60-9322dc1d7312",
   "metadata": {},
   "source": [
    "## Hansen maps of forest cover"
   ]
  },
  {
   "cell_type": "code",
   "execution_count": 71,
   "id": "6825754f-70b7-41ac-aabe-2f38f891cf7b",
   "metadata": {},
   "outputs": [
    {
     "data": {
      "text/html": [
       "\n",
       "            <style>\n",
       "                .geemap-dark {\n",
       "                    --jp-widgets-color: white;\n",
       "                    --jp-widgets-label-color: white;\n",
       "                    --jp-ui-font-color1: white;\n",
       "                    --jp-layout-color2: #454545;\n",
       "                    background-color: #383838;\n",
       "                }\n",
       "\n",
       "                .geemap-dark .jupyter-button {\n",
       "                    --jp-layout-color3: #383838;\n",
       "                }\n",
       "\n",
       "                .geemap-colab {\n",
       "                    background-color: var(--colab-primary-surface-color, white);\n",
       "                }\n",
       "\n",
       "                .geemap-colab .jupyter-button {\n",
       "                    --jp-layout-color3: var(--colab-primary-surface-color, white);\n",
       "                }\n",
       "            </style>\n",
       "            "
      ],
      "text/plain": [
       "<IPython.core.display.HTML object>"
      ]
     },
     "metadata": {},
     "output_type": "display_data"
    }
   ],
   "source": [
    "# Define the Hansen Global Forest Change dataset.\n",
    "dataset = ee.Image('UMD/hansen/global_forest_change_2020_v1_8')\n",
    "\n",
    "# Select the layers you are interested in.\n",
    "# 'loss' indicates areas of forest loss.\n",
    "forest_loss = dataset.select(['loss'])\n",
    "\n",
    "# Clip the forest loss data to the AOI.\n",
    "clipped_forest_loss = forest_loss.clip(gfc)"
   ]
  },
  {
   "cell_type": "code",
   "execution_count": 72,
   "id": "da45d460-2334-4585-b673-60f8379d59a2",
   "metadata": {},
   "outputs": [
    {
     "data": {
      "text/html": [
       "\n",
       "            <style>\n",
       "                .geemap-dark {\n",
       "                    --jp-widgets-color: white;\n",
       "                    --jp-widgets-label-color: white;\n",
       "                    --jp-ui-font-color1: white;\n",
       "                    --jp-layout-color2: #454545;\n",
       "                    background-color: #383838;\n",
       "                }\n",
       "\n",
       "                .geemap-dark .jupyter-button {\n",
       "                    --jp-layout-color3: #383838;\n",
       "                }\n",
       "\n",
       "                .geemap-colab {\n",
       "                    background-color: var(--colab-primary-surface-color, white);\n",
       "                }\n",
       "\n",
       "                .geemap-colab .jupyter-button {\n",
       "                    --jp-layout-color3: var(--colab-primary-surface-color, white);\n",
       "                }\n",
       "            </style>\n",
       "            "
      ],
      "text/plain": [
       "<IPython.core.display.HTML object>"
      ]
     },
     "metadata": {},
     "output_type": "display_data"
    }
   ],
   "source": [
    "Map.addLayer(clipped_forest_loss)"
   ]
  },
  {
   "cell_type": "code",
   "execution_count": 73,
   "id": "9f3dc2f6-d838-47f5-9c89-06b8b599559e",
   "metadata": {},
   "outputs": [
    {
     "data": {
      "text/html": [
       "\n",
       "            <style>\n",
       "                .geemap-dark {\n",
       "                    --jp-widgets-color: white;\n",
       "                    --jp-widgets-label-color: white;\n",
       "                    --jp-ui-font-color1: white;\n",
       "                    --jp-layout-color2: #454545;\n",
       "                    background-color: #383838;\n",
       "                }\n",
       "\n",
       "                .geemap-dark .jupyter-button {\n",
       "                    --jp-layout-color3: #383838;\n",
       "                }\n",
       "\n",
       "                .geemap-colab {\n",
       "                    background-color: var(--colab-primary-surface-color, white);\n",
       "                }\n",
       "\n",
       "                .geemap-colab .jupyter-button {\n",
       "                    --jp-layout-color3: var(--colab-primary-surface-color, white);\n",
       "                }\n",
       "            </style>\n",
       "            "
      ],
      "text/plain": [
       "<IPython.core.display.HTML object>"
      ]
     },
     "metadata": {},
     "output_type": "display_data"
    }
   ],
   "source": [
    "projection_han = clipped_forest_loss.select('loss').projection().getInfo()\n",
    "\n",
    "task_h = ee.batch.Export.image.toCloudStorage(\n",
    "    image=clipped_forest_loss, \n",
    "    description='NYS_Hansen_ForLoss',\n",
    "    bucket=bucket_name, \n",
    "    fileNamePrefix='GEE_Export',\n",
    "    crs=projection_han['crs'],\n",
    "    crsTransform=projection_han['transform'],\n",
    "    region=gfc.geometry(),\n",
    "    maxPixels=1e10,\n",
    "    scale=30,\n",
    "    fileFormat=\"GeoTIFF\"\n",
    ")\n",
    "task_h.start()"
   ]
  },
  {
   "cell_type": "code",
   "execution_count": 86,
   "id": "58110bff-9ad0-4796-97fe-254fde14e5a6",
   "metadata": {},
   "outputs": [
    {
     "data": {
      "text/html": [
       "\n",
       "            <style>\n",
       "                .geemap-dark {\n",
       "                    --jp-widgets-color: white;\n",
       "                    --jp-widgets-label-color: white;\n",
       "                    --jp-ui-font-color1: white;\n",
       "                    --jp-layout-color2: #454545;\n",
       "                    background-color: #383838;\n",
       "                }\n",
       "\n",
       "                .geemap-dark .jupyter-button {\n",
       "                    --jp-layout-color3: #383838;\n",
       "                }\n",
       "\n",
       "                .geemap-colab {\n",
       "                    background-color: var(--colab-primary-surface-color, white);\n",
       "                }\n",
       "\n",
       "                .geemap-colab .jupyter-button {\n",
       "                    --jp-layout-color3: var(--colab-primary-surface-color, white);\n",
       "                }\n",
       "            </style>\n",
       "            "
      ],
      "text/plain": [
       "<IPython.core.display.HTML object>"
      ]
     },
     "metadata": {},
     "output_type": "display_data"
    },
    {
     "data": {
      "text/plain": [
       "[<Task 3C5V36EFOFUVKEYRBEBYF64E EXPORT_IMAGE: NYS_forest_loss_export (CANCEL_REQUESTED)>,\n",
       " <Task IDNCSNQ3GAYLRRKIQQEKSOQW EXPORT_IMAGE: NYS_forest_loss_export (COMPLETED)>,\n",
       " <Task OPH7CYSZ47LKFAVPDB2W574D EXPORT_IMAGE: NYS_Hansen_ForLoss (FAILED)>,\n",
       " <Task C6E4BQ6GZPL7OX5YBX2GB2Y2 EXPORT_IMAGE: NYS_S2_Indices (FAILED)>,\n",
       " <Task 3BCS6JPGBLGSOOSL7TD5LDMC EXPORT_IMAGE: NYS_S2_Indices (FAILED)>,\n",
       " <Task JS4L2HZX62HD5WYLWTJOEMA7 EXPORT_IMAGE: NYS_S2_Indices (FAILED)>,\n",
       " <Task DSPJ6DNVQX475OJGK3ARRE4Z EXPORT_IMAGE: NYS_S2_Indices (FAILED)>,\n",
       " <Task O4372R4UDAYJHW6WJNQTTN6T EXPORT_IMAGE: myExportImageTask (FAILED)>,\n",
       " <Task TPFCYE4P65NMIPMLS44IY3QI EXPORT_IMAGE: NYS_S2_Indices (FAILED)>]"
      ]
     },
     "execution_count": 86,
     "metadata": {},
     "output_type": "execute_result"
    }
   ],
   "source": [
    "ee.batch.Task.list()"
   ]
  },
  {
   "cell_type": "code",
   "execution_count": 81,
   "id": "4f3c538b-e510-4de9-8cb2-e8e429844a2a",
   "metadata": {},
   "outputs": [
    {
     "data": {
      "text/html": [
       "\n",
       "            <style>\n",
       "                .geemap-dark {\n",
       "                    --jp-widgets-color: white;\n",
       "                    --jp-widgets-label-color: white;\n",
       "                    --jp-ui-font-color1: white;\n",
       "                    --jp-layout-color2: #454545;\n",
       "                    background-color: #383838;\n",
       "                }\n",
       "\n",
       "                .geemap-dark .jupyter-button {\n",
       "                    --jp-layout-color3: #383838;\n",
       "                }\n",
       "\n",
       "                .geemap-colab {\n",
       "                    background-color: var(--colab-primary-surface-color, white);\n",
       "                }\n",
       "\n",
       "                .geemap-colab .jupyter-button {\n",
       "                    --jp-layout-color3: var(--colab-primary-surface-color, white);\n",
       "                }\n",
       "            </style>\n",
       "            "
      ],
      "text/plain": [
       "<IPython.core.display.HTML object>"
      ]
     },
     "metadata": {},
     "output_type": "display_data"
    }
   ],
   "source": [
    "# Get the URL for downloading the image.\n",
    "export_params_hansen ={\n",
    "    'image': clipped_forest_loss,\n",
    "    'scale': 30,  # Scale in meters\n",
    "    'folder': \"GEE_Data_Export\",\n",
    "    'description': 'NYS_forest_loss_export',\n",
    "    'region': gfc.geometry(),  # Area of interest\n",
    "    'fileFormat': 'GeoTIFF',\n",
    "    'maxPixels': 1e9\n",
    "}\n",
    "\n",
    "# If you want to export the data to your Google Drive, you can use:\n",
    "# Export as GeoTIFF\n",
    "task_hg = ee.batch.Export.image.toDrive(**export_params_hansen)\n",
    "task_hg.start()"
   ]
  },
  {
   "cell_type": "markdown",
   "id": "d9ecb6f2-3e2c-4e64-877a-729d268fd288",
   "metadata": {},
   "source": [
    "Landfire Vegetation "
   ]
  },
  {
   "cell_type": "code",
   "execution_count": null,
   "id": "6f23b09a-d6d8-4957-81ba-ae12dd4ae55f",
   "metadata": {},
   "outputs": [],
   "source": [
    "help(ee.Image.setMulti)"
   ]
  },
  {
   "cell_type": "code",
   "execution_count": null,
   "id": "5e6cffb4-1592-442e-8806-81e08bc437be",
   "metadata": {
    "scrolled": true
   },
   "outputs": [],
   "source": [
    "# Define the Landfire dataset.\n",
    "lf_dataset = (ee.Image('LANDFIRE/Vegetation/EVT/v1_4_0/CONUS')\n",
    "              #.select(\"EVT\")\n",
    "              .clip(wa_hucs)\n",
    "              #.get(\"EVT_class_names\")\n",
    "             #\n",
    "             )\n",
    "\n",
    "\n",
    "\n",
    "# Clip the landfire data to the AOI.\n",
    "display('All metadata:', lf_dataset)"
   ]
  },
  {
   "cell_type": "code",
   "execution_count": null,
   "id": "5cbc7058-ec68-4de6-8613-5001a98b7b6c",
   "metadata": {},
   "outputs": [],
   "source": [
    "Map = geemap.Map(center=[48.5433, -118.8363], zoom=8)\n",
    "\n",
    "Map.addLayer(lf_dataset, {'min': 3001, 'max': 3968, 'palette': ['red', 'blue']}, \"lf_wa\")\n",
    "Map"
   ]
  },
  {
   "cell_type": "code",
   "execution_count": null,
   "id": "b46b0801-836d-4ebf-8305-f16f1c5038a1",
   "metadata": {
    "scrolled": true
   },
   "outputs": [],
   "source": [
    "import csv\n",
    "import pandas as pd \n",
    "class_names = (lf_dataset.get('EVT_class_names')).getInfo()\n",
    "class_values = (lf_dataset.get('EVT_class_values')).getInfo()\n",
    "\n",
    "class_dict = {'names': class_names, 'values': class_values}\n",
    "\n",
    "class_df = pd.DataFrame(class_dict)\n",
    "class_df.to_csv(\"/Users/Anthony/OneDrive - UW/University of Washington/Data and Modeling/SOIL CARBON/All_WA/data/dataframes/WA_LandFire_Classes.csv\")"
   ]
  },
  {
   "cell_type": "code",
   "execution_count": null,
   "id": "8f2c71aa-50ab-4488-8a19-54992cb726ea",
   "metadata": {
    "scrolled": true
   },
   "outputs": [],
   "source": [
    "# Get the URL for downloading the image.\n",
    "export_params_lf ={\n",
    "    'image': lf_wa,\n",
    "    'scale': 30,  # Scale in meters\n",
    "    'description': 'WA_LandFire_2014',\n",
    "    'folder': 'GEE Spatial Layers',\n",
    "    'region': wa_hucs.geometry(),  # Area of interest\n",
    "    'fileFormat': 'GeoTIFF',\n",
    "    #'selectors': ['EVT_class_names'],\n",
    "    'maxPixels': 1e12\n",
    "}\n",
    "\n",
    "# If you want to export the data to your Google Drive, you can use:\n",
    "# Export as GeoTIFF\n",
    "task_h = ee.batch.Export.image.toDrive(**export_params_lf)\n",
    "task_h.start()"
   ]
  },
  {
   "cell_type": "code",
   "execution_count": null,
   "id": "4e3a13de-64fe-4044-a829-40ef59aa8209",
   "metadata": {},
   "outputs": [],
   "source": [
    "geemap.ee_export_image_to_drive(\n",
    "    lf_wa,\n",
    "    folder=\"GEE_Spatial_Layers\",\n",
    "    #crs=crs,\n",
    "    #crs_transform=crs_transform,\n",
    "    region= wa_hucs.geometry(),\n",
    "    scale = 30,\n",
    "    maxPixels = 1e12\n",
    ")"
   ]
  },
  {
   "cell_type": "markdown",
   "id": "b211d31f-78b2-412c-9289-7e5e4c419693",
   "metadata": {},
   "source": [
    "Climate Data from WorldClim"
   ]
  },
  {
   "cell_type": "code",
   "execution_count": null,
   "id": "99d570ec-ba9a-4c95-beb1-d657015e3d29",
   "metadata": {},
   "outputs": [],
   "source": [
    "# Define the WorldClim dataset\n",
    "wclim_dataset = ee.Image('WORLDCLIM/V1/BIO')\n",
    "\n",
    "# Select the layers you are interested in.\n",
    "# 'loss' indicates areas of forest loss.\n",
    "climate_data = (wclim_dataset.select(['bio01', 'bio04', 'bio12', 'bio15'])\n",
    "               .multiply([0.1,0.01, 1.0, 1.0]))\n",
    "\n",
    "wa_hucs_buff = wa_hucs.geometry().buffer(2000)\n",
    "\n",
    "# Clip the forest loss data to the AOI.\n",
    "clipped_climate_data = climate_data.clip(wa_hucs).toDouble()"
   ]
  },
  {
   "cell_type": "code",
   "execution_count": null,
   "id": "69719206-c3ff-4a82-9a59-47428c9f22a8",
   "metadata": {},
   "outputs": [],
   "source": [
    "Map = geemap.Map(center=[48.5433, -118.8363], zoom=8)\n",
    "\n",
    "clim_indices_to_visualize = ['bio01', 'bio04', 'bio12', 'bio15']\n",
    "    \n",
    "for index_name in clim_indices_to_visualize:\n",
    "    # Select index\n",
    "    index_image = clipped_climate_data.select(index_name)\n",
    "        \n",
    "    # Add index layer to the map\n",
    "    Map.addLayer(index_image, {}, f'{index_name}')\n",
    "\n",
    "Map.addLayer(clipped_climate_data)"
   ]
  },
  {
   "cell_type": "code",
   "execution_count": null,
   "id": "2284fab0-4069-4af4-82e8-19b7002e5f55",
   "metadata": {},
   "outputs": [],
   "source": [
    "Map"
   ]
  },
  {
   "cell_type": "code",
   "execution_count": null,
   "id": "1e5a2aca-6303-45f1-94ff-040fb1ff465f",
   "metadata": {},
   "outputs": [],
   "source": [
    "# Get the URL for downloading the image.\n",
    "export_params_climate ={\n",
    "    'image': clipped_climate_data,\n",
    "    'scale': 927.67,  # Scale in meters\n",
    "    'description': 'clipped_climate_data',\n",
    "    'region': wa_hucs_buff,  # Area of interest\n",
    "    'fileFormat': 'GeoTIFF',\n",
    "    'maxPixels': 201565679\n",
    "}\n",
    "\n",
    "# If you want to export the data to your Google Drive, you can use:\n",
    "# Export as GeoTIFF\n",
    "task_h = ee.batch.Export.image.toDrive(**export_params_climate)\n",
    "task_h.start()"
   ]
  },
  {
   "cell_type": "code",
   "execution_count": null,
   "id": "42e2d58f-a983-48c7-856a-dd29b9b1a9f8",
   "metadata": {},
   "outputs": [],
   "source": []
  }
 ],
 "metadata": {
  "kernelspec": {
   "display_name": "Python 3 (ipykernel)",
   "language": "python",
   "name": "python3"
  },
  "language_info": {
   "codemirror_mode": {
    "name": "ipython",
    "version": 3
   },
   "file_extension": ".py",
   "mimetype": "text/x-python",
   "name": "python",
   "nbconvert_exporter": "python",
   "pygments_lexer": "ipython3",
   "version": "3.13.5"
  }
 },
 "nbformat": 4,
 "nbformat_minor": 5
}
